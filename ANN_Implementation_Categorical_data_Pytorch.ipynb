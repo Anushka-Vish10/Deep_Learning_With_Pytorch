{
  "nbformat": 4,
  "nbformat_minor": 0,
  "metadata": {
    "colab": {
      "name": "ANN_Implementation_Categorical_data_Pytorch.ipynb",
      "provenance": []
    },
    "kernelspec": {
      "name": "python3",
      "display_name": "Python 3"
    },
    "language_info": {
      "name": "python"
    }
  },
  "cells": [
    {
      "cell_type": "code",
      "metadata": {
        "id": "rq-V23npWAK2"
      },
      "source": [
        "import pandas as pd"
      ],
      "execution_count": null,
      "outputs": []
    },
    {
      "cell_type": "code",
      "metadata": {
        "id": "5rMOz9k4WJwq"
      },
      "source": [
        "df=pd.read_csv('/content/houseprice.csv',usecols=[\"SalePrice\", \"MSSubClass\", \"MSZoning\", \"LotFrontage\", \"LotArea\",\n",
        "                                         \"Street\", \"YearBuilt\", \"LotShape\", \"1stFlrSF\", \"2ndFlrSF\"]).dropna()"
      ],
      "execution_count": null,
      "outputs": []
    },
    {
      "cell_type": "code",
      "metadata": {
        "colab": {
          "base_uri": "https://localhost:8080/"
        },
        "id": "7U5DnDvpWNxb",
        "outputId": "3dc72cc6-0642-4bf0-f319-e993f825cfb2"
      },
      "source": [
        "\n",
        "df.shape"
      ],
      "execution_count": null,
      "outputs": [
        {
          "output_type": "execute_result",
          "data": {
            "text/plain": [
              "(1201, 10)"
            ]
          },
          "metadata": {},
          "execution_count": 3
        }
      ]
    },
    {
      "cell_type": "code",
      "metadata": {
        "colab": {
          "base_uri": "https://localhost:8080/"
        },
        "id": "zYT5h7ShWN3E",
        "outputId": "4328402c-1787-4851-9a36-ff8a8a94caa6"
      },
      "source": [
        "df.info()"
      ],
      "execution_count": null,
      "outputs": [
        {
          "output_type": "stream",
          "text": [
            "<class 'pandas.core.frame.DataFrame'>\n",
            "Int64Index: 1201 entries, 0 to 1459\n",
            "Data columns (total 10 columns):\n",
            " #   Column       Non-Null Count  Dtype  \n",
            "---  ------       --------------  -----  \n",
            " 0   MSSubClass   1201 non-null   int64  \n",
            " 1   MSZoning     1201 non-null   object \n",
            " 2   LotFrontage  1201 non-null   float64\n",
            " 3   LotArea      1201 non-null   int64  \n",
            " 4   Street       1201 non-null   object \n",
            " 5   LotShape     1201 non-null   object \n",
            " 6   YearBuilt    1201 non-null   int64  \n",
            " 7   1stFlrSF     1201 non-null   int64  \n",
            " 8   2ndFlrSF     1201 non-null   int64  \n",
            " 9   SalePrice    1201 non-null   int64  \n",
            "dtypes: float64(1), int64(6), object(3)\n",
            "memory usage: 103.2+ KB\n"
          ],
          "name": "stdout"
        }
      ]
    },
    {
      "cell_type": "code",
      "metadata": {
        "colab": {
          "base_uri": "https://localhost:8080/"
        },
        "id": "VObISMZcWN57",
        "outputId": "e53da981-55f4-498b-8914-40cb539b0063"
      },
      "source": [
        "for i in df.columns:\n",
        "    print(\"Column name {} and unique values are {}\".format(i,len(df[i].unique())))\n"
      ],
      "execution_count": null,
      "outputs": [
        {
          "output_type": "stream",
          "text": [
            "Column name MSSubClass and unique values are 15\n",
            "Column name MSZoning and unique values are 5\n",
            "Column name LotFrontage and unique values are 110\n",
            "Column name LotArea and unique values are 869\n",
            "Column name Street and unique values are 2\n",
            "Column name LotShape and unique values are 4\n",
            "Column name YearBuilt and unique values are 112\n",
            "Column name 1stFlrSF and unique values are 678\n",
            "Column name 2ndFlrSF and unique values are 368\n",
            "Column name SalePrice and unique values are 597\n"
          ],
          "name": "stdout"
        }
      ]
    },
    {
      "cell_type": "code",
      "metadata": {
        "colab": {
          "base_uri": "https://localhost:8080/"
        },
        "id": "4Yu51ZaaWN8c",
        "outputId": "98bb7044-ef3a-43c6-a6c3-30bca6773c3f"
      },
      "source": [
        "\n",
        "import datetime\n",
        "datetime.datetime.now().year"
      ],
      "execution_count": null,
      "outputs": [
        {
          "output_type": "execute_result",
          "data": {
            "text/plain": [
              "2021"
            ]
          },
          "metadata": {},
          "execution_count": 6
        }
      ]
    },
    {
      "cell_type": "markdown",
      "metadata": {
        "id": "GIq3AtXQ0CSb"
      },
      "source": [
        "# Creating a column by name total year having the difference of year"
      ]
    },
    {
      "cell_type": "code",
      "metadata": {
        "id": "aY3Ol_6dWN-6"
      },
      "source": [
        "df['Total Years']=datetime.datetime.now().year-df['YearBuilt']\n"
      ],
      "execution_count": null,
      "outputs": []
    },
    {
      "cell_type": "markdown",
      "metadata": {
        "id": "VxMgU0-y0JPn"
      },
      "source": [
        "Droping the YearBuilt column"
      ]
    },
    {
      "cell_type": "code",
      "metadata": {
        "id": "p5vw6ipcWOCN"
      },
      "source": [
        "df.drop(\"YearBuilt\",axis=1,inplace=True)"
      ],
      "execution_count": null,
      "outputs": []
    },
    {
      "cell_type": "code",
      "metadata": {
        "colab": {
          "base_uri": "https://localhost:8080/"
        },
        "id": "dF_nC7h0Wlc5",
        "outputId": "ecfa341d-0208-4846-879b-e5fa818d2afa"
      },
      "source": [
        "# Checking columns name\n",
        "df.columns"
      ],
      "execution_count": null,
      "outputs": [
        {
          "output_type": "execute_result",
          "data": {
            "text/plain": [
              "Index(['MSSubClass', 'MSZoning', 'LotFrontage', 'LotArea', 'Street',\n",
              "       'LotShape', '1stFlrSF', '2ndFlrSF', 'SalePrice', 'Total Years'],\n",
              "      dtype='object')"
            ]
          },
          "metadata": {},
          "execution_count": 9
        }
      ]
    },
    {
      "cell_type": "markdown",
      "metadata": {
        "id": "tcNnjOIK0jfP"
      },
      "source": [
        "1. Collecting categorical feature\n",
        "\n",
        "2. Categorical Embedding"
      ]
    },
    {
      "cell_type": "code",
      "metadata": {
        "id": "_T7EHZizWlg6"
      },
      "source": [
        "cat_features=[\"MSSubClass\", \"MSZoning\", \"Street\", \"LotShape\"]\n",
        "out_feature=\"SalePrice\"\n"
      ],
      "execution_count": null,
      "outputs": []
    },
    {
      "cell_type": "markdown",
      "metadata": {
        "id": "0aAwjI9z0rtF"
      },
      "source": [
        "# Applying label coding to the categorical features"
      ]
    },
    {
      "cell_type": "code",
      "metadata": {
        "colab": {
          "base_uri": "https://localhost:8080/"
        },
        "id": "Hf0lc3UyWlkp",
        "outputId": "15b23e65-bad3-4208-fad1-bbc0ce3ea74c"
      },
      "source": [
        "\n",
        "from sklearn.preprocessing import LabelEncoder\n",
        "lbl_encoders={}\n",
        "lbl_encoders[\"MSSubClass\"]=LabelEncoder()\n",
        "lbl_encoders[\"MSSubClass\"].fit_transform(df[\"MSSubClass\"])"
      ],
      "execution_count": null,
      "outputs": [
        {
          "output_type": "execute_result",
          "data": {
            "text/plain": [
              "array([5, 0, 5, ..., 6, 0, 0])"
            ]
          },
          "metadata": {},
          "execution_count": 11
        }
      ]
    },
    {
      "cell_type": "code",
      "metadata": {
        "colab": {
          "base_uri": "https://localhost:8080/"
        },
        "id": "jFvETKbYWqh2",
        "outputId": "94dce181-3284-49b7-83dc-bbd8ebb4a2fd"
      },
      "source": [
        "lbl_encoders"
      ],
      "execution_count": null,
      "outputs": [
        {
          "output_type": "execute_result",
          "data": {
            "text/plain": [
              "{'MSSubClass': LabelEncoder()}"
            ]
          },
          "metadata": {},
          "execution_count": 12
        }
      ]
    },
    {
      "cell_type": "code",
      "metadata": {
        "id": "1rwj30T9WqnV"
      },
      "source": [
        "from sklearn.preprocessing import LabelEncoder\n",
        "lbl_encoders={}\n",
        "for feature in cat_features:\n",
        "    lbl_encoders[feature]=LabelEncoder()\n",
        "    df[feature]=lbl_encoders[feature].fit_transform(df[feature])"
      ],
      "execution_count": null,
      "outputs": []
    },
    {
      "cell_type": "code",
      "metadata": {
        "colab": {
          "base_uri": "https://localhost:8080/",
          "height": 202
        },
        "id": "h59Vc1MMWqq3",
        "outputId": "399b2824-3f43-4750-a1ee-31a3c609f58e"
      },
      "source": [
        "df.head()"
      ],
      "execution_count": null,
      "outputs": [
        {
          "output_type": "execute_result",
          "data": {
            "text/html": [
              "<div>\n",
              "<style scoped>\n",
              "    .dataframe tbody tr th:only-of-type {\n",
              "        vertical-align: middle;\n",
              "    }\n",
              "\n",
              "    .dataframe tbody tr th {\n",
              "        vertical-align: top;\n",
              "    }\n",
              "\n",
              "    .dataframe thead th {\n",
              "        text-align: right;\n",
              "    }\n",
              "</style>\n",
              "<table border=\"1\" class=\"dataframe\">\n",
              "  <thead>\n",
              "    <tr style=\"text-align: right;\">\n",
              "      <th></th>\n",
              "      <th>MSSubClass</th>\n",
              "      <th>MSZoning</th>\n",
              "      <th>LotFrontage</th>\n",
              "      <th>LotArea</th>\n",
              "      <th>Street</th>\n",
              "      <th>LotShape</th>\n",
              "      <th>1stFlrSF</th>\n",
              "      <th>2ndFlrSF</th>\n",
              "      <th>SalePrice</th>\n",
              "      <th>Total Years</th>\n",
              "    </tr>\n",
              "  </thead>\n",
              "  <tbody>\n",
              "    <tr>\n",
              "      <th>0</th>\n",
              "      <td>5</td>\n",
              "      <td>3</td>\n",
              "      <td>65.0</td>\n",
              "      <td>8450</td>\n",
              "      <td>1</td>\n",
              "      <td>3</td>\n",
              "      <td>856</td>\n",
              "      <td>854</td>\n",
              "      <td>208500</td>\n",
              "      <td>18</td>\n",
              "    </tr>\n",
              "    <tr>\n",
              "      <th>1</th>\n",
              "      <td>0</td>\n",
              "      <td>3</td>\n",
              "      <td>80.0</td>\n",
              "      <td>9600</td>\n",
              "      <td>1</td>\n",
              "      <td>3</td>\n",
              "      <td>1262</td>\n",
              "      <td>0</td>\n",
              "      <td>181500</td>\n",
              "      <td>45</td>\n",
              "    </tr>\n",
              "    <tr>\n",
              "      <th>2</th>\n",
              "      <td>5</td>\n",
              "      <td>3</td>\n",
              "      <td>68.0</td>\n",
              "      <td>11250</td>\n",
              "      <td>1</td>\n",
              "      <td>0</td>\n",
              "      <td>920</td>\n",
              "      <td>866</td>\n",
              "      <td>223500</td>\n",
              "      <td>20</td>\n",
              "    </tr>\n",
              "    <tr>\n",
              "      <th>3</th>\n",
              "      <td>6</td>\n",
              "      <td>3</td>\n",
              "      <td>60.0</td>\n",
              "      <td>9550</td>\n",
              "      <td>1</td>\n",
              "      <td>0</td>\n",
              "      <td>961</td>\n",
              "      <td>756</td>\n",
              "      <td>140000</td>\n",
              "      <td>106</td>\n",
              "    </tr>\n",
              "    <tr>\n",
              "      <th>4</th>\n",
              "      <td>5</td>\n",
              "      <td>3</td>\n",
              "      <td>84.0</td>\n",
              "      <td>14260</td>\n",
              "      <td>1</td>\n",
              "      <td>0</td>\n",
              "      <td>1145</td>\n",
              "      <td>1053</td>\n",
              "      <td>250000</td>\n",
              "      <td>21</td>\n",
              "    </tr>\n",
              "  </tbody>\n",
              "</table>\n",
              "</div>"
            ],
            "text/plain": [
              "   MSSubClass  MSZoning  LotFrontage  ...  2ndFlrSF  SalePrice  Total Years\n",
              "0           5         3         65.0  ...       854     208500           18\n",
              "1           0         3         80.0  ...         0     181500           45\n",
              "2           5         3         68.0  ...       866     223500           20\n",
              "3           6         3         60.0  ...       756     140000          106\n",
              "4           5         3         84.0  ...      1053     250000           21\n",
              "\n",
              "[5 rows x 10 columns]"
            ]
          },
          "metadata": {},
          "execution_count": 14
        }
      ]
    },
    {
      "cell_type": "code",
      "metadata": {
        "id": "yspD1EwIXBFW"
      },
      "source": [
        "import numpy as np"
      ],
      "execution_count": null,
      "outputs": []
    },
    {
      "cell_type": "markdown",
      "metadata": {
        "id": "HKcrj5120zo7"
      },
      "source": [
        "# Stacking and Converting Into numpy"
      ]
    },
    {
      "cell_type": "code",
      "metadata": {
        "colab": {
          "base_uri": "https://localhost:8080/"
        },
        "id": "FQhVfwfsWqt6",
        "outputId": "c7441f4e-920d-4d7b-c848-203d1a0d5460"
      },
      "source": [
        "### Stacking and Converting Into Tensors\n",
        "cat_features=np.stack([df['MSSubClass'],df['MSZoning'],df['Street'],df['LotShape']],1)\n",
        "cat_features"
      ],
      "execution_count": null,
      "outputs": [
        {
          "output_type": "execute_result",
          "data": {
            "text/plain": [
              "array([[5, 3, 1, 3],\n",
              "       [0, 3, 1, 3],\n",
              "       [5, 3, 1, 0],\n",
              "       ...,\n",
              "       [6, 3, 1, 3],\n",
              "       [0, 3, 1, 3],\n",
              "       [0, 3, 1, 3]])"
            ]
          },
          "metadata": {},
          "execution_count": 16
        }
      ]
    },
    {
      "cell_type": "markdown",
      "metadata": {
        "id": "rESP-5ss1BHi"
      },
      "source": [
        "## Converting categorical features into tensors"
      ]
    },
    {
      "cell_type": "code",
      "metadata": {
        "colab": {
          "base_uri": "https://localhost:8080/"
        },
        "id": "B8PgDc1CWqxB",
        "outputId": "aba318a0-662b-4330-bed4-413c6b87f479"
      },
      "source": [
        "### Convert numpy to Tensors\n",
        "import torch\n",
        "cat_features=torch.tensor(cat_features,dtype=torch.int64)\n",
        "cat_features"
      ],
      "execution_count": null,
      "outputs": [
        {
          "output_type": "execute_result",
          "data": {
            "text/plain": [
              "tensor([[5, 3, 1, 3],\n",
              "        [0, 3, 1, 3],\n",
              "        [5, 3, 1, 0],\n",
              "        ...,\n",
              "        [6, 3, 1, 3],\n",
              "        [0, 3, 1, 3],\n",
              "        [0, 3, 1, 3]])"
            ]
          },
          "metadata": {},
          "execution_count": 17
        }
      ]
    },
    {
      "cell_type": "markdown",
      "metadata": {
        "id": "dEGIjeFX1Grm"
      },
      "source": [
        "# Note : Categorical feature never be conveted into float"
      ]
    },
    {
      "cell_type": "code",
      "metadata": {
        "id": "8mCycLyuWq0B"
      },
      "source": [
        "# create continuous variable\n",
        "cont_features=[]\n",
        "for i in df.columns:\n",
        "    if i in [\"MSSubClass\", \"MSZoning\", \"Street\", \"LotShape\",\"SalePrice\"]:\n",
        "        pass\n",
        "    else:\n",
        "        cont_features.append(i)"
      ],
      "execution_count": null,
      "outputs": []
    },
    {
      "cell_type": "code",
      "metadata": {
        "colab": {
          "base_uri": "https://localhost:8080/"
        },
        "id": "byDEzi5aXJgs",
        "outputId": "5fc7cb0b-e45f-4e9d-c753-90b4e2a72f9f"
      },
      "source": [
        "cont_features"
      ],
      "execution_count": null,
      "outputs": [
        {
          "output_type": "execute_result",
          "data": {
            "text/plain": [
              "['LotFrontage', 'LotArea', '1stFlrSF', '2ndFlrSF', 'Total Years']"
            ]
          },
          "metadata": {},
          "execution_count": 19
        }
      ]
    },
    {
      "cell_type": "markdown",
      "metadata": {
        "id": "KJmhJeAf1jBE"
      },
      "source": [
        "# Converting our continuos varibale to in numpy"
      ]
    },
    {
      "cell_type": "code",
      "metadata": {
        "colab": {
          "base_uri": "https://localhost:8080/"
        },
        "id": "h3c4cH-uXJky",
        "outputId": "592c04bb-c2e8-4de0-a59c-db6a122156d0"
      },
      "source": [
        "\n",
        "### Stacking continuous variable to a tensor\n",
        "cont_values=np.stack([df[i].values for i in cont_features],axis=1)\n",
        "cont_values=torch.tensor(cont_values,dtype=torch.float)\n",
        "cont_values"
      ],
      "execution_count": null,
      "outputs": [
        {
          "output_type": "execute_result",
          "data": {
            "text/plain": [
              "tensor([[   65.,  8450.,   856.,   854.,    18.],\n",
              "        [   80.,  9600.,  1262.,     0.,    45.],\n",
              "        [   68., 11250.,   920.,   866.,    20.],\n",
              "        ...,\n",
              "        [   66.,  9042.,  1188.,  1152.,    80.],\n",
              "        [   68.,  9717.,  1078.,     0.,    71.],\n",
              "        [   75.,  9937.,  1256.,     0.,    56.]])"
            ]
          },
          "metadata": {},
          "execution_count": 20
        }
      ]
    },
    {
      "cell_type": "code",
      "metadata": {
        "colab": {
          "base_uri": "https://localhost:8080/"
        },
        "id": "hFZb6Nz9XJoc",
        "outputId": "778a613d-54f9-4ff7-a2f2-608bda105f21"
      },
      "source": [
        "\n",
        "cont_values.dtype"
      ],
      "execution_count": null,
      "outputs": [
        {
          "output_type": "execute_result",
          "data": {
            "text/plain": [
              "torch.float32"
            ]
          },
          "metadata": {},
          "execution_count": 21
        }
      ]
    },
    {
      "cell_type": "code",
      "metadata": {
        "colab": {
          "base_uri": "https://localhost:8080/"
        },
        "id": "xjqEROl9XJsA",
        "outputId": "12005d88-e108-4753-f247-e66be072862f"
      },
      "source": [
        "### Dependent Feature \n",
        "y=torch.tensor(df['SalePrice'].values,dtype=torch.float).reshape(-1,1)\n",
        "y"
      ],
      "execution_count": null,
      "outputs": [
        {
          "output_type": "execute_result",
          "data": {
            "text/plain": [
              "tensor([[208500.],\n",
              "        [181500.],\n",
              "        [223500.],\n",
              "        ...,\n",
              "        [266500.],\n",
              "        [142125.],\n",
              "        [147500.]])"
            ]
          },
          "metadata": {},
          "execution_count": 22
        }
      ]
    },
    {
      "cell_type": "code",
      "metadata": {
        "colab": {
          "base_uri": "https://localhost:8080/"
        },
        "id": "aGpAeQ8AXJvS",
        "outputId": "831e993f-d3ff-4b78-ce54-39b307c27191"
      },
      "source": [
        "df.info()"
      ],
      "execution_count": null,
      "outputs": [
        {
          "output_type": "stream",
          "text": [
            "<class 'pandas.core.frame.DataFrame'>\n",
            "Int64Index: 1201 entries, 0 to 1459\n",
            "Data columns (total 10 columns):\n",
            " #   Column       Non-Null Count  Dtype  \n",
            "---  ------       --------------  -----  \n",
            " 0   MSSubClass   1201 non-null   int64  \n",
            " 1   MSZoning     1201 non-null   int64  \n",
            " 2   LotFrontage  1201 non-null   float64\n",
            " 3   LotArea      1201 non-null   int64  \n",
            " 4   Street       1201 non-null   int64  \n",
            " 5   LotShape     1201 non-null   int64  \n",
            " 6   1stFlrSF     1201 non-null   int64  \n",
            " 7   2ndFlrSF     1201 non-null   int64  \n",
            " 8   SalePrice    1201 non-null   int64  \n",
            " 9   Total Years  1201 non-null   int64  \n",
            "dtypes: float64(1), int64(9)\n",
            "memory usage: 103.2 KB\n"
          ],
          "name": "stdout"
        }
      ]
    },
    {
      "cell_type": "markdown",
      "metadata": {
        "id": "ZLse8Hgr1yk2"
      },
      "source": [
        "# Let us confirm the the features"
      ]
    },
    {
      "cell_type": "code",
      "metadata": {
        "colab": {
          "base_uri": "https://localhost:8080/"
        },
        "id": "tQZJAIIIXJ0M",
        "outputId": "c0540d8d-4386-4df3-bcbb-529416878086"
      },
      "source": [
        "\n",
        "cat_features.shape,cont_values.shape,y.shape"
      ],
      "execution_count": null,
      "outputs": [
        {
          "output_type": "execute_result",
          "data": {
            "text/plain": [
              "(torch.Size([1201, 4]), torch.Size([1201, 5]), torch.Size([1201, 1]))"
            ]
          },
          "metadata": {},
          "execution_count": 24
        }
      ]
    },
    {
      "cell_type": "code",
      "metadata": {
        "colab": {
          "base_uri": "https://localhost:8080/"
        },
        "id": "wjMdBPweWq2L",
        "outputId": "f4e96ef6-d7aa-4f53-d80d-9e72781e24d8"
      },
      "source": [
        "\n",
        "len(df['MSSubClass'].unique())"
      ],
      "execution_count": null,
      "outputs": [
        {
          "output_type": "execute_result",
          "data": {
            "text/plain": [
              "15"
            ]
          },
          "metadata": {},
          "execution_count": 25
        }
      ]
    },
    {
      "cell_type": "markdown",
      "metadata": {
        "id": "UgAKQRAs19WU"
      },
      "source": [
        "# Embedding Size For Categorical columns\n",
        "\n",
        "> Remember this embedding layer is only created for categorical features\n",
        "\n",
        "> storing length of as it will help in our embedding i.e that be input layer\n",
        "\n",
        "> this unique lenght we get is our input dimension"
      ]
    },
    {
      "cell_type": "code",
      "metadata": {
        "id": "bL6LH9_KWq6X"
      },
      "source": [
        "#### Embedding Size For Categorical columns\n",
        "cat_dims=[len(df[col].unique()) for col in [\"MSSubClass\", \"MSZoning\", \"Street\", \"LotShape\"]]"
      ],
      "execution_count": null,
      "outputs": []
    },
    {
      "cell_type": "code",
      "metadata": {
        "colab": {
          "base_uri": "https://localhost:8080/"
        },
        "id": "66xshl18Xqh4",
        "outputId": "72e9c4e1-5406-486c-c68f-0cd891a9f7a9"
      },
      "source": [
        "\n",
        "cat_dims"
      ],
      "execution_count": null,
      "outputs": [
        {
          "output_type": "execute_result",
          "data": {
            "text/plain": [
              "[15, 5, 2, 4]"
            ]
          },
          "metadata": {},
          "execution_count": 27
        }
      ]
    },
    {
      "cell_type": "markdown",
      "metadata": {
        "id": "cIrybaSs2wzp"
      },
      "source": [
        "# Output dimension\n",
        "\n",
        "Thumb Rule:\n",
        "\n",
        "> The output dimension should we set is based on the input dimension(min(50, > > feature dimension/2))\n",
        "\n",
        "> This is how the output of the embedding layer will be selected\n",
        "\n"
      ]
    },
    {
      "cell_type": "code",
      "metadata": {
        "id": "9RakbArqXqol"
      },
      "source": [
        "\n",
        "embedding_dim= [(x, min(50, (x + 1) // 2)) for x in cat_dims]"
      ],
      "execution_count": null,
      "outputs": []
    },
    {
      "cell_type": "code",
      "metadata": {
        "colab": {
          "base_uri": "https://localhost:8080/"
        },
        "id": "_LkmpQVp2T5p",
        "outputId": "0809a79d-f743-44a2-cc0c-fb46b0b0b218"
      },
      "source": [
        "embedding_dim"
      ],
      "execution_count": null,
      "outputs": [
        {
          "output_type": "execute_result",
          "data": {
            "text/plain": [
              "[(15, 8), (5, 3), (2, 1), (4, 2)]"
            ]
          },
          "metadata": {},
          "execution_count": 29
        }
      ]
    },
    {
      "cell_type": "code",
      "metadata": {
        "colab": {
          "base_uri": "https://localhost:8080/"
        },
        "id": "5Nj20Ir3Xqr2",
        "outputId": "8f1ad598-7365-416f-e9e9-df3fe618a94a"
      },
      "source": [
        "import torch\n",
        "import torch.nn as nn\n",
        "import torch.nn.functional as F\n",
        "embed_representation=nn.ModuleList([nn.Embedding(inp,out) for inp,out in embedding_dim])\n",
        "embed_representation"
      ],
      "execution_count": null,
      "outputs": [
        {
          "output_type": "execute_result",
          "data": {
            "text/plain": [
              "ModuleList(\n",
              "  (0): Embedding(15, 8)\n",
              "  (1): Embedding(5, 3)\n",
              "  (2): Embedding(2, 1)\n",
              "  (3): Embedding(4, 2)\n",
              ")"
            ]
          },
          "metadata": {},
          "execution_count": 31
        }
      ]
    },
    {
      "cell_type": "code",
      "metadata": {
        "colab": {
          "base_uri": "https://localhost:8080/"
        },
        "id": "9eRucAJaXqu6",
        "outputId": "972e3544-f152-4ffe-be9b-82159b924fbb"
      },
      "source": [
        "\n",
        "cat_features"
      ],
      "execution_count": null,
      "outputs": [
        {
          "output_type": "execute_result",
          "data": {
            "text/plain": [
              "tensor([[5, 3, 1, 3],\n",
              "        [0, 3, 1, 3],\n",
              "        [5, 3, 1, 0],\n",
              "        ...,\n",
              "        [6, 3, 1, 3],\n",
              "        [0, 3, 1, 3],\n",
              "        [0, 3, 1, 3]])"
            ]
          },
          "metadata": {},
          "execution_count": 32
        }
      ]
    },
    {
      "cell_type": "code",
      "metadata": {
        "colab": {
          "base_uri": "https://localhost:8080/"
        },
        "id": "dKlbRkM9Xqxb",
        "outputId": "0c4b19ee-7a7b-4951-eed7-419fc663d455"
      },
      "source": [
        "cat_featuresz=cat_features[:4]\n",
        "cat_featuresz"
      ],
      "execution_count": null,
      "outputs": [
        {
          "output_type": "execute_result",
          "data": {
            "text/plain": [
              "tensor([[5, 3, 1, 3],\n",
              "        [0, 3, 1, 3],\n",
              "        [5, 3, 1, 0],\n",
              "        [6, 3, 1, 0]])"
            ]
          },
          "metadata": {},
          "execution_count": 33
        }
      ]
    },
    {
      "cell_type": "code",
      "metadata": {
        "id": "BNI1JOo1Xq1O"
      },
      "source": [
        "pd.set_option('display.max_rows', 500)\n",
        "embedding_val=[]\n",
        "for i,e in enumerate(embed_representation):\n",
        "    embedding_val.append(e(cat_features[:,i]))"
      ],
      "execution_count": null,
      "outputs": []
    },
    {
      "cell_type": "code",
      "metadata": {
        "colab": {
          "base_uri": "https://localhost:8080/"
        },
        "id": "YwatpUNQX7_N",
        "outputId": "b186edfb-247d-477e-a53e-28b81262ea23"
      },
      "source": [
        "\n",
        "embedding_val"
      ],
      "execution_count": null,
      "outputs": [
        {
          "output_type": "execute_result",
          "data": {
            "text/plain": [
              "[tensor([[ 0.5291,  2.1352, -1.1545,  ..., -1.3367,  0.5125, -0.2596],\n",
              "         [-0.0036, -0.6619,  0.2202,  ..., -0.5914, -1.6579, -1.7465],\n",
              "         [ 0.5291,  2.1352, -1.1545,  ..., -1.3367,  0.5125, -0.2596],\n",
              "         ...,\n",
              "         [-0.2058,  1.2962,  1.6511,  ..., -0.8992,  1.6958, -0.7061],\n",
              "         [-0.0036, -0.6619,  0.2202,  ..., -0.5914, -1.6579, -1.7465],\n",
              "         [-0.0036, -0.6619,  0.2202,  ..., -0.5914, -1.6579, -1.7465]],\n",
              "        grad_fn=<EmbeddingBackward>), tensor([[ 2.0333,  0.7882, -0.1276],\n",
              "         [ 2.0333,  0.7882, -0.1276],\n",
              "         [ 2.0333,  0.7882, -0.1276],\n",
              "         ...,\n",
              "         [ 2.0333,  0.7882, -0.1276],\n",
              "         [ 2.0333,  0.7882, -0.1276],\n",
              "         [ 2.0333,  0.7882, -0.1276]], grad_fn=<EmbeddingBackward>), tensor([[-1.5076],\n",
              "         [-1.5076],\n",
              "         [-1.5076],\n",
              "         ...,\n",
              "         [-1.5076],\n",
              "         [-1.5076],\n",
              "         [-1.5076]], grad_fn=<EmbeddingBackward>), tensor([[ 1.2271,  0.3794],\n",
              "         [ 1.2271,  0.3794],\n",
              "         [ 0.1378, -0.3481],\n",
              "         ...,\n",
              "         [ 1.2271,  0.3794],\n",
              "         [ 1.2271,  0.3794],\n",
              "         [ 1.2271,  0.3794]], grad_fn=<EmbeddingBackward>)]"
            ]
          },
          "metadata": {},
          "execution_count": 35
        }
      ]
    },
    {
      "cell_type": "code",
      "metadata": {
        "colab": {
          "base_uri": "https://localhost:8080/"
        },
        "id": "sRIKblKUX8C_",
        "outputId": "0744d783-502e-4712-b9e4-17bbf70f56b3"
      },
      "source": [
        "\n",
        "z = torch.cat(embedding_val, 1)\n",
        "z"
      ],
      "execution_count": null,
      "outputs": [
        {
          "output_type": "execute_result",
          "data": {
            "text/plain": [
              "tensor([[ 0.5291,  2.1352, -1.1545,  ..., -1.5076,  1.2271,  0.3794],\n",
              "        [-0.0036, -0.6619,  0.2202,  ..., -1.5076,  1.2271,  0.3794],\n",
              "        [ 0.5291,  2.1352, -1.1545,  ..., -1.5076,  0.1378, -0.3481],\n",
              "        ...,\n",
              "        [-0.2058,  1.2962,  1.6511,  ..., -1.5076,  1.2271,  0.3794],\n",
              "        [-0.0036, -0.6619,  0.2202,  ..., -1.5076,  1.2271,  0.3794],\n",
              "        [-0.0036, -0.6619,  0.2202,  ..., -1.5076,  1.2271,  0.3794]],\n",
              "       grad_fn=<CatBackward>)"
            ]
          },
          "metadata": {},
          "execution_count": 36
        }
      ]
    },
    {
      "cell_type": "code",
      "metadata": {
        "id": "opvg1KzJX8F4"
      },
      "source": [
        "#### Implement dropupout\n",
        "droput=nn.Dropout(.4)"
      ],
      "execution_count": null,
      "outputs": []
    },
    {
      "cell_type": "code",
      "metadata": {
        "colab": {
          "base_uri": "https://localhost:8080/"
        },
        "id": "u9fAXy8aX8Lb",
        "outputId": "bb09bbd3-1746-4880-d2a9-b879ebaa4815"
      },
      "source": [
        "final_embed=droput(z)\n",
        "final_embed"
      ],
      "execution_count": null,
      "outputs": [
        {
          "output_type": "execute_result",
          "data": {
            "text/plain": [
              "tensor([[ 0.8818,  3.5587, -1.9242,  ..., -0.0000,  2.0451,  0.0000],\n",
              "        [-0.0000, -0.0000,  0.0000,  ..., -0.0000,  2.0451,  0.0000],\n",
              "        [ 0.0000,  3.5587, -1.9242,  ..., -2.5127,  0.2296, -0.5802],\n",
              "        ...,\n",
              "        [-0.3429,  2.1603,  2.7519,  ..., -2.5127,  0.0000,  0.6323],\n",
              "        [-0.0060, -1.1031,  0.3669,  ..., -2.5127,  2.0451,  0.6323],\n",
              "        [-0.0060, -1.1031,  0.0000,  ..., -0.0000,  2.0451,  0.0000]],\n",
              "       grad_fn=<MulBackward0>)"
            ]
          },
          "metadata": {},
          "execution_count": 38
        }
      ]
    },
    {
      "cell_type": "markdown",
      "metadata": {
        "id": "eHQzasch3PCK"
      },
      "source": [
        "# Create a Feed Forward Neural Network"
      ]
    },
    {
      "cell_type": "code",
      "metadata": {
        "id": "1sbKVdxfX8OR"
      },
      "source": [
        "##### Create a Feed Forward Neural Network\n",
        "import torch\n",
        "import torch.nn as nn\n",
        "import torch.nn.functional as F\n",
        "class FeedForwardNN(nn.Module):\n",
        "\n",
        "    def __init__(self, embedding_dim, n_cont, out_sz, layers, p=0.5):\n",
        "        super().__init__()\n",
        "        self.embeds = nn.ModuleList([nn.Embedding(inp,out) for inp,out in embedding_dim])\n",
        "        self.emb_drop = nn.Dropout(p)\n",
        "        self.bn_cont = nn.BatchNorm1d(n_cont)\n",
        "        \n",
        "        layerlist = []\n",
        "        n_emb = sum((out for inp,out in embedding_dim))\n",
        "        n_in = n_emb + n_cont\n",
        "        \n",
        "        for i in layers:\n",
        "            layerlist.append(nn.Linear(n_in,i)) \n",
        "            layerlist.append(nn.ReLU(inplace=True))\n",
        "            layerlist.append(nn.BatchNorm1d(i))\n",
        "            layerlist.append(nn.Dropout(p))\n",
        "            n_in = i\n",
        "        layerlist.append(nn.Linear(layers[-1],out_sz))\n",
        "            \n",
        "        self.layers = nn.Sequential(*layerlist)\n",
        "    \n",
        "    def forward(self, x_cat, x_cont):\n",
        "        embeddings = []\n",
        "        for i,e in enumerate(self.embeds):\n",
        "            embeddings.append(e(x_cat[:,i]))\n",
        "        x = torch.cat(embeddings, 1)\n",
        "        x = self.emb_drop(x)\n",
        "        \n",
        "        x_cont = self.bn_cont(x_cont)\n",
        "        x = torch.cat([x, x_cont], 1)\n",
        "        x = self.layers(x)\n",
        "        return x"
      ],
      "execution_count": null,
      "outputs": []
    },
    {
      "cell_type": "code",
      "metadata": {
        "colab": {
          "base_uri": "https://localhost:8080/"
        },
        "id": "HbBMZKa7YNrd",
        "outputId": "29d42c6e-5105-4f96-faca-3c23d9d505aa"
      },
      "source": [
        "len(cont_features)"
      ],
      "execution_count": null,
      "outputs": [
        {
          "output_type": "execute_result",
          "data": {
            "text/plain": [
              "5"
            ]
          },
          "metadata": {},
          "execution_count": 40
        }
      ]
    },
    {
      "cell_type": "code",
      "metadata": {
        "id": "p9IJOuAdYNvp"
      },
      "source": [
        "torch.manual_seed(100)\n",
        "model=FeedForwardNN(embedding_dim,len(cont_features),1,[100,50],p=0.4)\n",
        "\n",
        "\n",
        "\n",
        "# this this we provide: embedding dimension, lenght of continous featuer, out as 1 , and creating two hidden neuron i.e of 100 nad 50 neuron and droupout ratio as 40%\n",
        "# to avoid overfitting"
      ],
      "execution_count": null,
      "outputs": []
    },
    {
      "cell_type": "markdown",
      "metadata": {
        "id": "Li7-S3jz3cD1"
      },
      "source": [
        "# Let us check our model"
      ]
    },
    {
      "cell_type": "code",
      "metadata": {
        "colab": {
          "base_uri": "https://localhost:8080/"
        },
        "id": "mS6-Kx_8YNyO",
        "outputId": "034bdb2b-2ca7-4de7-e0be-6c0477db9fa2"
      },
      "source": [
        "\n",
        "model"
      ],
      "execution_count": null,
      "outputs": [
        {
          "output_type": "execute_result",
          "data": {
            "text/plain": [
              "FeedForwardNN(\n",
              "  (embeds): ModuleList(\n",
              "    (0): Embedding(15, 8)\n",
              "    (1): Embedding(5, 3)\n",
              "    (2): Embedding(2, 1)\n",
              "    (3): Embedding(4, 2)\n",
              "  )\n",
              "  (emb_drop): Dropout(p=0.4, inplace=False)\n",
              "  (bn_cont): BatchNorm1d(5, eps=1e-05, momentum=0.1, affine=True, track_running_stats=True)\n",
              "  (layers): Sequential(\n",
              "    (0): Linear(in_features=19, out_features=100, bias=True)\n",
              "    (1): ReLU(inplace=True)\n",
              "    (2): BatchNorm1d(100, eps=1e-05, momentum=0.1, affine=True, track_running_stats=True)\n",
              "    (3): Dropout(p=0.4, inplace=False)\n",
              "    (4): Linear(in_features=100, out_features=50, bias=True)\n",
              "    (5): ReLU(inplace=True)\n",
              "    (6): BatchNorm1d(50, eps=1e-05, momentum=0.1, affine=True, track_running_stats=True)\n",
              "    (7): Dropout(p=0.4, inplace=False)\n",
              "    (8): Linear(in_features=50, out_features=1, bias=True)\n",
              "  )\n",
              ")"
            ]
          },
          "metadata": {},
          "execution_count": 42
        }
      ]
    },
    {
      "cell_type": "markdown",
      "metadata": {
        "id": "NreHO-uaYWZX"
      },
      "source": [
        "\n",
        "Define Loss And Optimizer"
      ]
    },
    {
      "cell_type": "code",
      "metadata": {
        "id": "SOq1SYIoYN1Q"
      },
      "source": [
        "loss_function=nn.MSELoss()\n",
        "optimizer=torch.optim.Adam(model.parameters(),lr=0.01)"
      ],
      "execution_count": null,
      "outputs": []
    },
    {
      "cell_type": "code",
      "metadata": {
        "colab": {
          "base_uri": "https://localhost:8080/"
        },
        "id": "J6i0Sty9YN4F",
        "outputId": "7f8dcdaf-37e4-4275-d5e7-94faed7c7e54"
      },
      "source": [
        "df.shape"
      ],
      "execution_count": null,
      "outputs": [
        {
          "output_type": "execute_result",
          "data": {
            "text/plain": [
              "(1201, 10)"
            ]
          },
          "metadata": {},
          "execution_count": 44
        }
      ]
    },
    {
      "cell_type": "code",
      "metadata": {
        "colab": {
          "base_uri": "https://localhost:8080/"
        },
        "id": "_BAAzsQNX8SM",
        "outputId": "ced3ed57-6195-43c3-eaa9-dfaeb4faf672"
      },
      "source": [
        "cont_values"
      ],
      "execution_count": null,
      "outputs": [
        {
          "output_type": "execute_result",
          "data": {
            "text/plain": [
              "tensor([[   65.,  8450.,   856.,   854.,    18.],\n",
              "        [   80.,  9600.,  1262.,     0.,    45.],\n",
              "        [   68., 11250.,   920.,   866.,    20.],\n",
              "        ...,\n",
              "        [   66.,  9042.,  1188.,  1152.,    80.],\n",
              "        [   68.,  9717.,  1078.,     0.,    71.],\n",
              "        [   75.,  9937.,  1256.,     0.,    56.]])"
            ]
          },
          "metadata": {},
          "execution_count": 45
        }
      ]
    },
    {
      "cell_type": "code",
      "metadata": {
        "colab": {
          "base_uri": "https://localhost:8080/"
        },
        "id": "ZTWN06sZYfp_",
        "outputId": "cfb04bcc-cb22-4216-92b6-d315a4886545"
      },
      "source": [
        "cont_values.shape"
      ],
      "execution_count": null,
      "outputs": [
        {
          "output_type": "execute_result",
          "data": {
            "text/plain": [
              "torch.Size([1201, 5])"
            ]
          },
          "metadata": {},
          "execution_count": 46
        }
      ]
    },
    {
      "cell_type": "markdown",
      "metadata": {
        "id": "CDg9wLrm3mAy"
      },
      "source": [
        "# Creating our training and testing data"
      ]
    },
    {
      "cell_type": "code",
      "metadata": {
        "id": "EfIWKw5nYftQ"
      },
      "source": [
        "batch_size=1200     ## total size of all data\n",
        "test_size=int(batch_size*0.15)  # created a test size i.e 15% of the total bathch size will be my \n",
        "train_categorical=cat_features[:batch_size-test_size]  ## preparing our train data on categorical feature  \n",
        "test_categorical=cat_features[batch_size-test_size:batch_size]  # # testing data over categorical feature\n",
        "train_cont=cont_values[:batch_size-test_size]\n",
        "test_cont=cont_values[batch_size-test_size:batch_size]\n",
        "y_train=y[:batch_size-test_size]\n",
        "y_test=y[batch_size-test_size:batch_size]"
      ],
      "execution_count": null,
      "outputs": []
    },
    {
      "cell_type": "code",
      "metadata": {
        "colab": {
          "base_uri": "https://localhost:8080/"
        },
        "id": "5dDSgSTPYfxM",
        "outputId": "14d7e6ef-a183-4cf4-adde-1e6261c63d1e"
      },
      "source": [
        "len(train_categorical),len(test_categorical),len(train_cont),len(test_cont),len(y_train),len(y_test)"
      ],
      "execution_count": null,
      "outputs": [
        {
          "output_type": "execute_result",
          "data": {
            "text/plain": [
              "(1020, 180, 1020, 180, 1020, 180)"
            ]
          },
          "metadata": {},
          "execution_count": 48
        }
      ]
    },
    {
      "cell_type": "code",
      "metadata": {
        "colab": {
          "base_uri": "https://localhost:8080/"
        },
        "id": "8QSnNyK1YfzQ",
        "outputId": "6244b2cb-377e-44e9-c346-069d4579b822"
      },
      "source": [
        "epochs=5000\n",
        "final_losses=[]\n",
        "for i in range(epochs):\n",
        "    i=i+1\n",
        "    y_pred=model(train_categorical,train_cont)\n",
        "    loss=torch.sqrt(loss_function(y_pred,y_train)) ### RMSE\n",
        "    final_losses.append(loss)\n",
        "    if i%10==1:\n",
        "        print(\"Epoch number: {} and the loss : {}\".format(i,loss.item()))\n",
        "    optimizer.zero_grad()\n",
        "    loss.backward()\n",
        "    optimizer.step()"
      ],
      "execution_count": null,
      "outputs": [
        {
          "output_type": "stream",
          "text": [
            "Epoch number: 1 and the loss : 200496.75\n",
            "Epoch number: 11 and the loss : 200493.46875\n",
            "Epoch number: 21 and the loss : 200489.140625\n",
            "Epoch number: 31 and the loss : 200482.640625\n",
            "Epoch number: 41 and the loss : 200473.25\n",
            "Epoch number: 51 and the loss : 200461.375\n",
            "Epoch number: 61 and the loss : 200446.40625\n",
            "Epoch number: 71 and the loss : 200429.359375\n",
            "Epoch number: 81 and the loss : 200408.0\n",
            "Epoch number: 91 and the loss : 200383.421875\n",
            "Epoch number: 101 and the loss : 200355.3125\n",
            "Epoch number: 111 and the loss : 200322.125\n",
            "Epoch number: 121 and the loss : 200291.4375\n",
            "Epoch number: 131 and the loss : 200252.015625\n",
            "Epoch number: 141 and the loss : 200206.609375\n",
            "Epoch number: 151 and the loss : 200162.234375\n",
            "Epoch number: 161 and the loss : 200112.265625\n",
            "Epoch number: 171 and the loss : 200059.734375\n",
            "Epoch number: 181 and the loss : 200005.828125\n",
            "Epoch number: 191 and the loss : 199946.140625\n",
            "Epoch number: 201 and the loss : 199881.53125\n",
            "Epoch number: 211 and the loss : 199815.609375\n",
            "Epoch number: 221 and the loss : 199737.5\n",
            "Epoch number: 231 and the loss : 199669.609375\n",
            "Epoch number: 241 and the loss : 199588.953125\n",
            "Epoch number: 251 and the loss : 199505.765625\n",
            "Epoch number: 261 and the loss : 199411.734375\n",
            "Epoch number: 271 and the loss : 199324.34375\n",
            "Epoch number: 281 and the loss : 199244.140625\n",
            "Epoch number: 291 and the loss : 199140.9375\n",
            "Epoch number: 301 and the loss : 199027.625\n",
            "Epoch number: 311 and the loss : 198933.21875\n",
            "Epoch number: 321 and the loss : 198845.0\n",
            "Epoch number: 331 and the loss : 198706.5\n",
            "Epoch number: 341 and the loss : 198602.9375\n",
            "Epoch number: 351 and the loss : 198488.75\n",
            "Epoch number: 361 and the loss : 198387.0\n",
            "Epoch number: 371 and the loss : 198246.625\n",
            "Epoch number: 381 and the loss : 198103.328125\n",
            "Epoch number: 391 and the loss : 198015.78125\n",
            "Epoch number: 401 and the loss : 197884.03125\n",
            "Epoch number: 411 and the loss : 197726.71875\n",
            "Epoch number: 421 and the loss : 197594.3125\n",
            "Epoch number: 431 and the loss : 197420.140625\n",
            "Epoch number: 441 and the loss : 197283.03125\n",
            "Epoch number: 451 and the loss : 197170.109375\n",
            "Epoch number: 461 and the loss : 196960.78125\n",
            "Epoch number: 471 and the loss : 196879.4375\n",
            "Epoch number: 481 and the loss : 196710.265625\n",
            "Epoch number: 491 and the loss : 196502.546875\n",
            "Epoch number: 501 and the loss : 196433.609375\n",
            "Epoch number: 511 and the loss : 196209.421875\n",
            "Epoch number: 521 and the loss : 196045.078125\n",
            "Epoch number: 531 and the loss : 195849.3125\n",
            "Epoch number: 541 and the loss : 195665.625\n",
            "Epoch number: 551 and the loss : 195460.328125\n",
            "Epoch number: 561 and the loss : 195286.3125\n",
            "Epoch number: 571 and the loss : 195073.625\n",
            "Epoch number: 581 and the loss : 194842.0625\n",
            "Epoch number: 591 and the loss : 194690.421875\n",
            "Epoch number: 601 and the loss : 194529.65625\n",
            "Epoch number: 611 and the loss : 194275.90625\n",
            "Epoch number: 621 and the loss : 194117.21875\n",
            "Epoch number: 631 and the loss : 193835.390625\n",
            "Epoch number: 641 and the loss : 193692.25\n",
            "Epoch number: 651 and the loss : 193490.59375\n",
            "Epoch number: 661 and the loss : 193226.34375\n",
            "Epoch number: 671 and the loss : 193108.609375\n",
            "Epoch number: 681 and the loss : 192780.734375\n",
            "Epoch number: 691 and the loss : 192500.5625\n",
            "Epoch number: 701 and the loss : 192302.828125\n",
            "Epoch number: 711 and the loss : 192211.109375\n",
            "Epoch number: 721 and the loss : 191968.46875\n",
            "Epoch number: 731 and the loss : 191681.109375\n",
            "Epoch number: 741 and the loss : 191506.90625\n",
            "Epoch number: 751 and the loss : 191218.8125\n",
            "Epoch number: 761 and the loss : 190996.359375\n",
            "Epoch number: 771 and the loss : 190728.390625\n",
            "Epoch number: 781 and the loss : 190477.53125\n",
            "Epoch number: 791 and the loss : 190288.71875\n",
            "Epoch number: 801 and the loss : 189872.6875\n",
            "Epoch number: 811 and the loss : 189750.265625\n",
            "Epoch number: 821 and the loss : 189652.015625\n",
            "Epoch number: 831 and the loss : 189292.578125\n",
            "Epoch number: 841 and the loss : 188944.21875\n",
            "Epoch number: 851 and the loss : 188842.71875\n",
            "Epoch number: 861 and the loss : 188416.75\n",
            "Epoch number: 871 and the loss : 188176.90625\n",
            "Epoch number: 881 and the loss : 187885.375\n",
            "Epoch number: 891 and the loss : 187488.765625\n",
            "Epoch number: 901 and the loss : 187452.109375\n",
            "Epoch number: 911 and the loss : 187250.09375\n",
            "Epoch number: 921 and the loss : 186799.21875\n",
            "Epoch number: 931 and the loss : 186393.75\n",
            "Epoch number: 941 and the loss : 186136.203125\n",
            "Epoch number: 951 and the loss : 185972.5625\n",
            "Epoch number: 961 and the loss : 185620.4375\n",
            "Epoch number: 971 and the loss : 185367.875\n",
            "Epoch number: 981 and the loss : 185076.28125\n",
            "Epoch number: 991 and the loss : 184822.21875\n",
            "Epoch number: 1001 and the loss : 184322.5\n",
            "Epoch number: 1011 and the loss : 184027.8125\n",
            "Epoch number: 1021 and the loss : 183793.171875\n",
            "Epoch number: 1031 and the loss : 183376.890625\n",
            "Epoch number: 1041 and the loss : 183228.40625\n",
            "Epoch number: 1051 and the loss : 182924.59375\n",
            "Epoch number: 1061 and the loss : 182543.40625\n",
            "Epoch number: 1071 and the loss : 182318.6875\n",
            "Epoch number: 1081 and the loss : 181932.375\n",
            "Epoch number: 1091 and the loss : 181498.5\n",
            "Epoch number: 1101 and the loss : 181287.046875\n",
            "Epoch number: 1111 and the loss : 180773.234375\n",
            "Epoch number: 1121 and the loss : 180492.078125\n",
            "Epoch number: 1131 and the loss : 180418.90625\n",
            "Epoch number: 1141 and the loss : 179958.46875\n",
            "Epoch number: 1151 and the loss : 179540.9375\n",
            "Epoch number: 1161 and the loss : 179374.84375\n",
            "Epoch number: 1171 and the loss : 179067.5\n",
            "Epoch number: 1181 and the loss : 178536.375\n",
            "Epoch number: 1191 and the loss : 178262.84375\n",
            "Epoch number: 1201 and the loss : 178219.84375\n",
            "Epoch number: 1211 and the loss : 177453.59375\n",
            "Epoch number: 1221 and the loss : 177496.0625\n",
            "Epoch number: 1231 and the loss : 176578.5625\n",
            "Epoch number: 1241 and the loss : 176326.1875\n",
            "Epoch number: 1251 and the loss : 175525.640625\n",
            "Epoch number: 1261 and the loss : 175576.140625\n",
            "Epoch number: 1271 and the loss : 175248.609375\n",
            "Epoch number: 1281 and the loss : 174931.921875\n",
            "Epoch number: 1291 and the loss : 174476.734375\n",
            "Epoch number: 1301 and the loss : 174215.75\n",
            "Epoch number: 1311 and the loss : 173672.234375\n",
            "Epoch number: 1321 and the loss : 173078.1875\n",
            "Epoch number: 1331 and the loss : 173401.71875\n",
            "Epoch number: 1341 and the loss : 172581.171875\n",
            "Epoch number: 1351 and the loss : 172267.09375\n",
            "Epoch number: 1361 and the loss : 171993.875\n",
            "Epoch number: 1371 and the loss : 171840.625\n",
            "Epoch number: 1381 and the loss : 171310.203125\n",
            "Epoch number: 1391 and the loss : 170396.765625\n",
            "Epoch number: 1401 and the loss : 170527.96875\n",
            "Epoch number: 1411 and the loss : 169694.125\n",
            "Epoch number: 1421 and the loss : 169843.34375\n",
            "Epoch number: 1431 and the loss : 169466.671875\n",
            "Epoch number: 1441 and the loss : 168691.953125\n",
            "Epoch number: 1451 and the loss : 168608.453125\n",
            "Epoch number: 1461 and the loss : 167990.484375\n",
            "Epoch number: 1471 and the loss : 167865.15625\n",
            "Epoch number: 1481 and the loss : 167330.921875\n",
            "Epoch number: 1491 and the loss : 166584.9375\n",
            "Epoch number: 1501 and the loss : 166326.328125\n",
            "Epoch number: 1511 and the loss : 165582.03125\n",
            "Epoch number: 1521 and the loss : 165823.875\n",
            "Epoch number: 1531 and the loss : 165269.5625\n",
            "Epoch number: 1541 and the loss : 164537.703125\n",
            "Epoch number: 1551 and the loss : 164477.21875\n",
            "Epoch number: 1561 and the loss : 164068.84375\n",
            "Epoch number: 1571 and the loss : 163410.078125\n",
            "Epoch number: 1581 and the loss : 163060.828125\n",
            "Epoch number: 1591 and the loss : 162952.28125\n",
            "Epoch number: 1601 and the loss : 162423.890625\n",
            "Epoch number: 1611 and the loss : 161624.171875\n",
            "Epoch number: 1621 and the loss : 160757.46875\n",
            "Epoch number: 1631 and the loss : 160879.828125\n",
            "Epoch number: 1641 and the loss : 160686.671875\n",
            "Epoch number: 1651 and the loss : 160084.21875\n",
            "Epoch number: 1661 and the loss : 160107.546875\n",
            "Epoch number: 1671 and the loss : 159035.171875\n",
            "Epoch number: 1681 and the loss : 158376.078125\n",
            "Epoch number: 1691 and the loss : 158298.96875\n",
            "Epoch number: 1701 and the loss : 157631.453125\n",
            "Epoch number: 1711 and the loss : 157317.34375\n",
            "Epoch number: 1721 and the loss : 157133.59375\n",
            "Epoch number: 1731 and the loss : 156691.421875\n",
            "Epoch number: 1741 and the loss : 156364.1875\n",
            "Epoch number: 1751 and the loss : 156170.421875\n",
            "Epoch number: 1761 and the loss : 154749.875\n",
            "Epoch number: 1771 and the loss : 154374.828125\n",
            "Epoch number: 1781 and the loss : 154039.40625\n",
            "Epoch number: 1791 and the loss : 153716.109375\n",
            "Epoch number: 1801 and the loss : 153603.21875\n",
            "Epoch number: 1811 and the loss : 152829.703125\n",
            "Epoch number: 1821 and the loss : 152239.375\n",
            "Epoch number: 1831 and the loss : 152453.40625\n",
            "Epoch number: 1841 and the loss : 151602.125\n",
            "Epoch number: 1851 and the loss : 150629.859375\n",
            "Epoch number: 1861 and the loss : 150780.40625\n",
            "Epoch number: 1871 and the loss : 150124.734375\n",
            "Epoch number: 1881 and the loss : 149265.671875\n",
            "Epoch number: 1891 and the loss : 148360.53125\n",
            "Epoch number: 1901 and the loss : 148672.25\n",
            "Epoch number: 1911 and the loss : 148923.5625\n",
            "Epoch number: 1921 and the loss : 147741.140625\n",
            "Epoch number: 1931 and the loss : 147346.59375\n",
            "Epoch number: 1941 and the loss : 146690.8125\n",
            "Epoch number: 1951 and the loss : 146520.40625\n",
            "Epoch number: 1961 and the loss : 145969.3125\n",
            "Epoch number: 1971 and the loss : 145531.1875\n",
            "Epoch number: 1981 and the loss : 145804.6875\n",
            "Epoch number: 1991 and the loss : 144507.4375\n",
            "Epoch number: 2001 and the loss : 144079.875\n",
            "Epoch number: 2011 and the loss : 142943.265625\n",
            "Epoch number: 2021 and the loss : 142951.203125\n",
            "Epoch number: 2031 and the loss : 142554.8125\n",
            "Epoch number: 2041 and the loss : 141994.0625\n",
            "Epoch number: 2051 and the loss : 141059.515625\n",
            "Epoch number: 2061 and the loss : 141626.59375\n",
            "Epoch number: 2071 and the loss : 140918.578125\n",
            "Epoch number: 2081 and the loss : 139698.640625\n",
            "Epoch number: 2091 and the loss : 139716.609375\n",
            "Epoch number: 2101 and the loss : 139451.78125\n",
            "Epoch number: 2111 and the loss : 138663.546875\n",
            "Epoch number: 2121 and the loss : 137816.5625\n",
            "Epoch number: 2131 and the loss : 137862.484375\n",
            "Epoch number: 2141 and the loss : 137296.265625\n",
            "Epoch number: 2151 and the loss : 136690.046875\n",
            "Epoch number: 2161 and the loss : 136449.734375\n",
            "Epoch number: 2171 and the loss : 136527.9375\n",
            "Epoch number: 2181 and the loss : 135868.0\n",
            "Epoch number: 2191 and the loss : 135610.140625\n",
            "Epoch number: 2201 and the loss : 134102.265625\n",
            "Epoch number: 2211 and the loss : 133803.3125\n",
            "Epoch number: 2221 and the loss : 132834.515625\n",
            "Epoch number: 2231 and the loss : 132587.609375\n",
            "Epoch number: 2241 and the loss : 131419.421875\n",
            "Epoch number: 2251 and the loss : 131582.484375\n",
            "Epoch number: 2261 and the loss : 130267.2265625\n",
            "Epoch number: 2271 and the loss : 130401.1171875\n",
            "Epoch number: 2281 and the loss : 130166.6328125\n",
            "Epoch number: 2291 and the loss : 129400.1640625\n",
            "Epoch number: 2301 and the loss : 129030.2890625\n",
            "Epoch number: 2311 and the loss : 128920.0859375\n",
            "Epoch number: 2321 and the loss : 128264.3828125\n",
            "Epoch number: 2331 and the loss : 128606.3671875\n",
            "Epoch number: 2341 and the loss : 127646.8515625\n",
            "Epoch number: 2351 and the loss : 126300.9375\n",
            "Epoch number: 2361 and the loss : 126234.078125\n",
            "Epoch number: 2371 and the loss : 125732.7734375\n",
            "Epoch number: 2381 and the loss : 124677.9375\n",
            "Epoch number: 2391 and the loss : 124634.6640625\n",
            "Epoch number: 2401 and the loss : 124308.78125\n",
            "Epoch number: 2411 and the loss : 123249.734375\n",
            "Epoch number: 2421 and the loss : 123058.09375\n",
            "Epoch number: 2431 and the loss : 122328.125\n",
            "Epoch number: 2441 and the loss : 122445.09375\n",
            "Epoch number: 2451 and the loss : 121249.6015625\n",
            "Epoch number: 2461 and the loss : 120334.03125\n",
            "Epoch number: 2471 and the loss : 120775.5234375\n",
            "Epoch number: 2481 and the loss : 120528.84375\n",
            "Epoch number: 2491 and the loss : 120612.1796875\n",
            "Epoch number: 2501 and the loss : 119597.671875\n",
            "Epoch number: 2511 and the loss : 118679.8984375\n",
            "Epoch number: 2521 and the loss : 117680.7578125\n",
            "Epoch number: 2531 and the loss : 118261.546875\n",
            "Epoch number: 2541 and the loss : 117353.1875\n",
            "Epoch number: 2551 and the loss : 116980.6875\n",
            "Epoch number: 2561 and the loss : 116295.8125\n",
            "Epoch number: 2571 and the loss : 115586.28125\n",
            "Epoch number: 2581 and the loss : 116020.2421875\n",
            "Epoch number: 2591 and the loss : 115470.546875\n",
            "Epoch number: 2601 and the loss : 114336.0078125\n",
            "Epoch number: 2611 and the loss : 114314.6796875\n",
            "Epoch number: 2621 and the loss : 114675.921875\n",
            "Epoch number: 2631 and the loss : 113609.28125\n",
            "Epoch number: 2641 and the loss : 112065.703125\n",
            "Epoch number: 2651 and the loss : 112320.125\n",
            "Epoch number: 2661 and the loss : 111431.03125\n",
            "Epoch number: 2671 and the loss : 110755.3515625\n",
            "Epoch number: 2681 and the loss : 110098.9140625\n",
            "Epoch number: 2691 and the loss : 109506.203125\n",
            "Epoch number: 2701 and the loss : 109743.96875\n",
            "Epoch number: 2711 and the loss : 109203.203125\n",
            "Epoch number: 2721 and the loss : 108942.609375\n",
            "Epoch number: 2731 and the loss : 108440.453125\n",
            "Epoch number: 2741 and the loss : 107192.6328125\n",
            "Epoch number: 2751 and the loss : 105870.796875\n",
            "Epoch number: 2761 and the loss : 107468.84375\n",
            "Epoch number: 2771 and the loss : 106484.6875\n",
            "Epoch number: 2781 and the loss : 105324.59375\n",
            "Epoch number: 2791 and the loss : 104562.046875\n",
            "Epoch number: 2801 and the loss : 103518.265625\n",
            "Epoch number: 2811 and the loss : 104047.8046875\n",
            "Epoch number: 2821 and the loss : 102775.0390625\n",
            "Epoch number: 2831 and the loss : 102943.828125\n",
            "Epoch number: 2841 and the loss : 102452.1796875\n",
            "Epoch number: 2851 and the loss : 101393.796875\n",
            "Epoch number: 2861 and the loss : 101799.21875\n",
            "Epoch number: 2871 and the loss : 100607.5859375\n",
            "Epoch number: 2881 and the loss : 100913.546875\n",
            "Epoch number: 2891 and the loss : 100623.9453125\n",
            "Epoch number: 2901 and the loss : 99018.1015625\n",
            "Epoch number: 2911 and the loss : 98127.5859375\n",
            "Epoch number: 2921 and the loss : 98307.4921875\n",
            "Epoch number: 2931 and the loss : 98715.921875\n",
            "Epoch number: 2941 and the loss : 96999.640625\n",
            "Epoch number: 2951 and the loss : 99966.53125\n",
            "Epoch number: 2961 and the loss : 97633.828125\n",
            "Epoch number: 2971 and the loss : 96102.203125\n",
            "Epoch number: 2981 and the loss : 95209.3125\n",
            "Epoch number: 2991 and the loss : 94425.3359375\n",
            "Epoch number: 3001 and the loss : 96463.453125\n",
            "Epoch number: 3011 and the loss : 94247.765625\n",
            "Epoch number: 3021 and the loss : 92957.2734375\n",
            "Epoch number: 3031 and the loss : 92613.2265625\n",
            "Epoch number: 3041 and the loss : 92781.734375\n",
            "Epoch number: 3051 and the loss : 91653.6484375\n",
            "Epoch number: 3061 and the loss : 92052.109375\n",
            "Epoch number: 3071 and the loss : 91277.265625\n",
            "Epoch number: 3081 and the loss : 90990.1875\n",
            "Epoch number: 3091 and the loss : 89739.1328125\n",
            "Epoch number: 3101 and the loss : 89497.640625\n",
            "Epoch number: 3111 and the loss : 88941.3515625\n",
            "Epoch number: 3121 and the loss : 89491.4609375\n",
            "Epoch number: 3131 and the loss : 87783.875\n",
            "Epoch number: 3141 and the loss : 87954.6953125\n",
            "Epoch number: 3151 and the loss : 87603.046875\n",
            "Epoch number: 3161 and the loss : 86228.046875\n",
            "Epoch number: 3171 and the loss : 87010.234375\n",
            "Epoch number: 3181 and the loss : 86132.1484375\n",
            "Epoch number: 3191 and the loss : 84884.4296875\n",
            "Epoch number: 3201 and the loss : 84866.953125\n",
            "Epoch number: 3211 and the loss : 84176.609375\n",
            "Epoch number: 3221 and the loss : 83042.34375\n",
            "Epoch number: 3231 and the loss : 86905.46875\n",
            "Epoch number: 3241 and the loss : 82463.7734375\n",
            "Epoch number: 3251 and the loss : 81636.59375\n",
            "Epoch number: 3261 and the loss : 81442.03125\n",
            "Epoch number: 3271 and the loss : 83506.390625\n",
            "Epoch number: 3281 and the loss : 81274.46875\n",
            "Epoch number: 3291 and the loss : 80898.9296875\n",
            "Epoch number: 3301 and the loss : 79727.109375\n",
            "Epoch number: 3311 and the loss : 80858.890625\n",
            "Epoch number: 3321 and the loss : 79166.4296875\n",
            "Epoch number: 3331 and the loss : 78803.9140625\n",
            "Epoch number: 3341 and the loss : 77689.53125\n",
            "Epoch number: 3351 and the loss : 77309.6796875\n",
            "Epoch number: 3361 and the loss : 77038.5078125\n",
            "Epoch number: 3371 and the loss : 76490.078125\n",
            "Epoch number: 3381 and the loss : 76368.34375\n",
            "Epoch number: 3391 and the loss : 75019.0703125\n",
            "Epoch number: 3401 and the loss : 74287.390625\n",
            "Epoch number: 3411 and the loss : 74240.3515625\n",
            "Epoch number: 3421 and the loss : 73701.265625\n",
            "Epoch number: 3431 and the loss : 73694.8515625\n",
            "Epoch number: 3441 and the loss : 72758.8828125\n",
            "Epoch number: 3451 and the loss : 72643.015625\n",
            "Epoch number: 3461 and the loss : 72709.5625\n",
            "Epoch number: 3471 and the loss : 71235.8125\n",
            "Epoch number: 3481 and the loss : 71268.1484375\n",
            "Epoch number: 3491 and the loss : 70757.9921875\n",
            "Epoch number: 3501 and the loss : 70114.5703125\n",
            "Epoch number: 3511 and the loss : 69114.140625\n",
            "Epoch number: 3521 and the loss : 68934.640625\n",
            "Epoch number: 3531 and the loss : 68676.1484375\n",
            "Epoch number: 3541 and the loss : 68412.3984375\n",
            "Epoch number: 3551 and the loss : 67853.40625\n",
            "Epoch number: 3561 and the loss : 66586.1328125\n",
            "Epoch number: 3571 and the loss : 65868.578125\n",
            "Epoch number: 3581 and the loss : 65958.21875\n",
            "Epoch number: 3591 and the loss : 66514.9921875\n",
            "Epoch number: 3601 and the loss : 64774.609375\n",
            "Epoch number: 3611 and the loss : 64719.83984375\n",
            "Epoch number: 3621 and the loss : 65226.11328125\n",
            "Epoch number: 3631 and the loss : 63208.20703125\n",
            "Epoch number: 3641 and the loss : 64279.296875\n",
            "Epoch number: 3651 and the loss : 62514.17578125\n",
            "Epoch number: 3661 and the loss : 63194.26171875\n",
            "Epoch number: 3671 and the loss : 61787.4375\n",
            "Epoch number: 3681 and the loss : 61135.30859375\n",
            "Epoch number: 3691 and the loss : 61301.60546875\n",
            "Epoch number: 3701 and the loss : 59855.83203125\n",
            "Epoch number: 3711 and the loss : 61784.4140625\n",
            "Epoch number: 3721 and the loss : 59616.8515625\n",
            "Epoch number: 3731 and the loss : 57447.9453125\n",
            "Epoch number: 3741 and the loss : 57812.50390625\n",
            "Epoch number: 3751 and the loss : 59408.6171875\n",
            "Epoch number: 3761 and the loss : 58803.18359375\n",
            "Epoch number: 3771 and the loss : 56351.03515625\n",
            "Epoch number: 3781 and the loss : 55746.6484375\n",
            "Epoch number: 3791 and the loss : 56548.16796875\n",
            "Epoch number: 3801 and the loss : 56111.7109375\n",
            "Epoch number: 3811 and the loss : 55388.1875\n",
            "Epoch number: 3821 and the loss : 56006.921875\n",
            "Epoch number: 3831 and the loss : 53873.03125\n",
            "Epoch number: 3841 and the loss : 53083.55078125\n",
            "Epoch number: 3851 and the loss : 54608.2890625\n",
            "Epoch number: 3861 and the loss : 54523.0546875\n",
            "Epoch number: 3871 and the loss : 51833.9765625\n",
            "Epoch number: 3881 and the loss : 51792.5625\n",
            "Epoch number: 3891 and the loss : 50165.4765625\n",
            "Epoch number: 3901 and the loss : 53506.5\n",
            "Epoch number: 3911 and the loss : 52462.02734375\n",
            "Epoch number: 3921 and the loss : 50889.68359375\n",
            "Epoch number: 3931 and the loss : 50037.453125\n",
            "Epoch number: 3941 and the loss : 49832.625\n",
            "Epoch number: 3951 and the loss : 49182.6796875\n",
            "Epoch number: 3961 and the loss : 50480.4296875\n",
            "Epoch number: 3971 and the loss : 48620.81640625\n",
            "Epoch number: 3981 and the loss : 48651.10546875\n",
            "Epoch number: 3991 and the loss : 50155.21484375\n",
            "Epoch number: 4001 and the loss : 48309.203125\n",
            "Epoch number: 4011 and the loss : 46305.8203125\n",
            "Epoch number: 4021 and the loss : 48864.41796875\n",
            "Epoch number: 4031 and the loss : 45565.71875\n",
            "Epoch number: 4041 and the loss : 46845.66796875\n",
            "Epoch number: 4051 and the loss : 47483.9609375\n",
            "Epoch number: 4061 and the loss : 44617.41015625\n",
            "Epoch number: 4071 and the loss : 45192.3515625\n",
            "Epoch number: 4081 and the loss : 44678.125\n",
            "Epoch number: 4091 and the loss : 45079.046875\n",
            "Epoch number: 4101 and the loss : 44690.93359375\n",
            "Epoch number: 4111 and the loss : 43832.5703125\n",
            "Epoch number: 4121 and the loss : 43821.78515625\n",
            "Epoch number: 4131 and the loss : 43072.6015625\n",
            "Epoch number: 4141 and the loss : 43560.7109375\n",
            "Epoch number: 4151 and the loss : 43961.41796875\n",
            "Epoch number: 4161 and the loss : 42980.546875\n",
            "Epoch number: 4171 and the loss : 42593.13671875\n",
            "Epoch number: 4181 and the loss : 41760.54296875\n",
            "Epoch number: 4191 and the loss : 42030.765625\n",
            "Epoch number: 4201 and the loss : 41668.546875\n",
            "Epoch number: 4211 and the loss : 43485.078125\n",
            "Epoch number: 4221 and the loss : 40077.3828125\n",
            "Epoch number: 4231 and the loss : 41518.0703125\n",
            "Epoch number: 4241 and the loss : 40121.66796875\n",
            "Epoch number: 4251 and the loss : 39923.2734375\n",
            "Epoch number: 4261 and the loss : 40988.57421875\n",
            "Epoch number: 4271 and the loss : 40862.78125\n",
            "Epoch number: 4281 and the loss : 42082.59375\n",
            "Epoch number: 4291 and the loss : 38832.71484375\n",
            "Epoch number: 4301 and the loss : 38884.18359375\n",
            "Epoch number: 4311 and the loss : 39771.421875\n",
            "Epoch number: 4321 and the loss : 40062.7265625\n",
            "Epoch number: 4331 and the loss : 38134.546875\n",
            "Epoch number: 4341 and the loss : 41803.7578125\n",
            "Epoch number: 4351 and the loss : 41020.03125\n",
            "Epoch number: 4361 and the loss : 38950.1640625\n",
            "Epoch number: 4371 and the loss : 38467.01953125\n",
            "Epoch number: 4381 and the loss : 38019.05859375\n",
            "Epoch number: 4391 and the loss : 36425.63671875\n",
            "Epoch number: 4401 and the loss : 36828.71484375\n",
            "Epoch number: 4411 and the loss : 38376.13671875\n",
            "Epoch number: 4421 and the loss : 38131.18359375\n",
            "Epoch number: 4431 and the loss : 37751.13671875\n",
            "Epoch number: 4441 and the loss : 37509.8125\n",
            "Epoch number: 4451 and the loss : 37569.0546875\n",
            "Epoch number: 4461 and the loss : 37380.43359375\n",
            "Epoch number: 4471 and the loss : 38054.65234375\n",
            "Epoch number: 4481 and the loss : 36675.6015625\n",
            "Epoch number: 4491 and the loss : 37182.87890625\n",
            "Epoch number: 4501 and the loss : 37723.3046875\n",
            "Epoch number: 4511 and the loss : 37102.59765625\n",
            "Epoch number: 4521 and the loss : 36053.18359375\n",
            "Epoch number: 4531 and the loss : 36818.66015625\n",
            "Epoch number: 4541 and the loss : 35057.93359375\n",
            "Epoch number: 4551 and the loss : 36140.91015625\n",
            "Epoch number: 4561 and the loss : 36222.90625\n",
            "Epoch number: 4571 and the loss : 37904.03125\n",
            "Epoch number: 4581 and the loss : 35081.9296875\n",
            "Epoch number: 4591 and the loss : 35128.31640625\n",
            "Epoch number: 4601 and the loss : 36552.44921875\n",
            "Epoch number: 4611 and the loss : 36037.35546875\n",
            "Epoch number: 4621 and the loss : 36425.54296875\n",
            "Epoch number: 4631 and the loss : 36802.7890625\n",
            "Epoch number: 4641 and the loss : 35301.81640625\n",
            "Epoch number: 4651 and the loss : 35656.98828125\n",
            "Epoch number: 4661 and the loss : 34229.29296875\n",
            "Epoch number: 4671 and the loss : 37118.94921875\n",
            "Epoch number: 4681 and the loss : 35743.7265625\n",
            "Epoch number: 4691 and the loss : 37835.39453125\n",
            "Epoch number: 4701 and the loss : 34427.01171875\n",
            "Epoch number: 4711 and the loss : 33851.734375\n",
            "Epoch number: 4721 and the loss : 35280.71484375\n",
            "Epoch number: 4731 and the loss : 34391.203125\n",
            "Epoch number: 4741 and the loss : 33749.4453125\n",
            "Epoch number: 4751 and the loss : 35529.73046875\n",
            "Epoch number: 4761 and the loss : 35246.90625\n",
            "Epoch number: 4771 and the loss : 36188.02734375\n",
            "Epoch number: 4781 and the loss : 33563.421875\n",
            "Epoch number: 4791 and the loss : 35906.85546875\n",
            "Epoch number: 4801 and the loss : 35298.26171875\n",
            "Epoch number: 4811 and the loss : 34704.44140625\n",
            "Epoch number: 4821 and the loss : 35042.44921875\n",
            "Epoch number: 4831 and the loss : 34715.21875\n",
            "Epoch number: 4841 and the loss : 35108.1796875\n",
            "Epoch number: 4851 and the loss : 35986.5234375\n",
            "Epoch number: 4861 and the loss : 35496.3515625\n",
            "Epoch number: 4871 and the loss : 35267.81640625\n",
            "Epoch number: 4881 and the loss : 36717.5546875\n",
            "Epoch number: 4891 and the loss : 34395.98046875\n",
            "Epoch number: 4901 and the loss : 35516.17578125\n",
            "Epoch number: 4911 and the loss : 34243.21875\n",
            "Epoch number: 4921 and the loss : 34923.93359375\n",
            "Epoch number: 4931 and the loss : 35902.99609375\n",
            "Epoch number: 4941 and the loss : 35520.15625\n",
            "Epoch number: 4951 and the loss : 33288.59765625\n",
            "Epoch number: 4961 and the loss : 35075.1875\n",
            "Epoch number: 4971 and the loss : 36460.0234375\n",
            "Epoch number: 4981 and the loss : 34468.0234375\n",
            "Epoch number: 4991 and the loss : 34747.3515625\n"
          ],
          "name": "stdout"
        }
      ]
    },
    {
      "cell_type": "code",
      "metadata": {
        "colab": {
          "base_uri": "https://localhost:8080/",
          "height": 279
        },
        "id": "8ETd3-Q6Yf1m",
        "outputId": "a4298e4e-001e-458d-9352-0639bf497ea8"
      },
      "source": [
        "# Ploting graph\n",
        "import matplotlib.pyplot as plt\n",
        "%matplotlib inline\n",
        "plt.plot(range(epochs), final_losses)\n",
        "plt.ylabel('RMSE Loss')\n",
        "plt.xlabel('epoch');"
      ],
      "execution_count": null,
      "outputs": [
        {
          "output_type": "display_data",
          "data": {
            "image/png": "[encoded data removed]",
            "text/plain": [
              "<Figure size 432x288 with 1 Axes>"
            ]
          },
          "metadata": {
            "needs_background": "light"
          }
        }
      ]
    },
    {
      "cell_type": "code",
      "metadata": {
        "colab": {
          "base_uri": "https://localhost:8080/"
        },
        "id": "OBhzKFFbYf4A",
        "outputId": "487f1819-2f4a-48a4-b9f0-fb61a99069b7"
      },
      "source": [
        "#### Validate the Test Data\n",
        "y_pred=\"\"\n",
        "with torch.no_grad():\n",
        "    y_pred=model(test_categorical,test_cont)\n",
        "    loss=torch.sqrt(loss_function(y_pred,y_test))\n",
        "print('RMSE: {}'.format(loss))"
      ],
      "execution_count": null,
      "outputs": [
        {
          "output_type": "stream",
          "text": [
            "RMSE: 45620.85546875\n"
          ],
          "name": "stdout"
        }
      ]
    },
    {
      "cell_type": "code",
      "metadata": {
        "id": "ayW4sMGPYf-F"
      },
      "source": [
        "data_verify=pd.DataFrame(y_test.tolist(),columns=[\"Test\"])"
      ],
      "execution_count": null,
      "outputs": []
    },
    {
      "cell_type": "code",
      "metadata": {
        "id": "Sr_FO-QuZFv8"
      },
      "source": [
        "data_predicted=pd.DataFrame(y_pred.tolist(),columns=[\"Prediction\"])"
      ],
      "execution_count": null,
      "outputs": []
    },
    {
      "cell_type": "code",
      "metadata": {
        "colab": {
          "base_uri": "https://localhost:8080/",
          "height": 1000
        },
        "id": "HUmNUVD7ZFzA",
        "outputId": "7ddc0436-87ea-4be5-bd5a-6efeef71b436"
      },
      "source": [
        "\n",
        "data_predicted"
      ],
      "execution_count": null,
      "outputs": [
        {
          "output_type": "execute_result",
          "data": {
            "text/html": [
              "<div>\n",
              "<style scoped>\n",
              "    .dataframe tbody tr th:only-of-type {\n",
              "        vertical-align: middle;\n",
              "    }\n",
              "\n",
              "    .dataframe tbody tr th {\n",
              "        vertical-align: top;\n",
              "    }\n",
              "\n",
              "    .dataframe thead th {\n",
              "        text-align: right;\n",
              "    }\n",
              "</style>\n",
              "<table border=\"1\" class=\"dataframe\">\n",
              "  <thead>\n",
              "    <tr style=\"text-align: right;\">\n",
              "      <th></th>\n",
              "      <th>Prediction</th>\n",
              "    </tr>\n",
              "  </thead>\n",
              "  <tbody>\n",
              "    <tr>\n",
              "      <th>0</th>\n",
              "      <td>102544.210938</td>\n",
              "    </tr>\n",
              "    <tr>\n",
              "      <th>1</th>\n",
              "      <td>205973.828125</td>\n",
              "    </tr>\n",
              "    <tr>\n",
              "      <th>2</th>\n",
              "      <td>142739.906250</td>\n",
              "    </tr>\n",
              "    <tr>\n",
              "      <th>3</th>\n",
              "      <td>186747.156250</td>\n",
              "    </tr>\n",
              "    <tr>\n",
              "      <th>4</th>\n",
              "      <td>210641.171875</td>\n",
              "    </tr>\n",
              "    <tr>\n",
              "      <th>5</th>\n",
              "      <td>201388.562500</td>\n",
              "    </tr>\n",
              "    <tr>\n",
              "      <th>6</th>\n",
              "      <td>144279.546875</td>\n",
              "    </tr>\n",
              "    <tr>\n",
              "      <th>7</th>\n",
              "      <td>298622.218750</td>\n",
              "    </tr>\n",
              "    <tr>\n",
              "      <th>8</th>\n",
              "      <td>155926.906250</td>\n",
              "    </tr>\n",
              "    <tr>\n",
              "      <th>9</th>\n",
              "      <td>378212.718750</td>\n",
              "    </tr>\n",
              "    <tr>\n",
              "      <th>10</th>\n",
              "      <td>212111.921875</td>\n",
              "    </tr>\n",
              "    <tr>\n",
              "      <th>11</th>\n",
              "      <td>192773.859375</td>\n",
              "    </tr>\n",
              "    <tr>\n",
              "      <th>12</th>\n",
              "      <td>190688.390625</td>\n",
              "    </tr>\n",
              "    <tr>\n",
              "      <th>13</th>\n",
              "      <td>107945.398438</td>\n",
              "    </tr>\n",
              "    <tr>\n",
              "      <th>14</th>\n",
              "      <td>191132.984375</td>\n",
              "    </tr>\n",
              "    <tr>\n",
              "      <th>15</th>\n",
              "      <td>100106.585938</td>\n",
              "    </tr>\n",
              "    <tr>\n",
              "      <th>16</th>\n",
              "      <td>245486.953125</td>\n",
              "    </tr>\n",
              "    <tr>\n",
              "      <th>17</th>\n",
              "      <td>126397.695312</td>\n",
              "    </tr>\n",
              "    <tr>\n",
              "      <th>18</th>\n",
              "      <td>309214.406250</td>\n",
              "    </tr>\n",
              "    <tr>\n",
              "      <th>19</th>\n",
              "      <td>84257.804688</td>\n",
              "    </tr>\n",
              "    <tr>\n",
              "      <th>20</th>\n",
              "      <td>189807.296875</td>\n",
              "    </tr>\n",
              "    <tr>\n",
              "      <th>21</th>\n",
              "      <td>106026.468750</td>\n",
              "    </tr>\n",
              "    <tr>\n",
              "      <th>22</th>\n",
              "      <td>99751.507812</td>\n",
              "    </tr>\n",
              "    <tr>\n",
              "      <th>23</th>\n",
              "      <td>158635.125000</td>\n",
              "    </tr>\n",
              "    <tr>\n",
              "      <th>24</th>\n",
              "      <td>224929.562500</td>\n",
              "    </tr>\n",
              "    <tr>\n",
              "      <th>25</th>\n",
              "      <td>175452.078125</td>\n",
              "    </tr>\n",
              "    <tr>\n",
              "      <th>26</th>\n",
              "      <td>133998.015625</td>\n",
              "    </tr>\n",
              "    <tr>\n",
              "      <th>27</th>\n",
              "      <td>371277.343750</td>\n",
              "    </tr>\n",
              "    <tr>\n",
              "      <th>28</th>\n",
              "      <td>150818.843750</td>\n",
              "    </tr>\n",
              "    <tr>\n",
              "      <th>29</th>\n",
              "      <td>160712.906250</td>\n",
              "    </tr>\n",
              "    <tr>\n",
              "      <th>30</th>\n",
              "      <td>69501.835938</td>\n",
              "    </tr>\n",
              "    <tr>\n",
              "      <th>31</th>\n",
              "      <td>126758.289062</td>\n",
              "    </tr>\n",
              "    <tr>\n",
              "      <th>32</th>\n",
              "      <td>266917.656250</td>\n",
              "    </tr>\n",
              "    <tr>\n",
              "      <th>33</th>\n",
              "      <td>91751.492188</td>\n",
              "    </tr>\n",
              "    <tr>\n",
              "      <th>34</th>\n",
              "      <td>235918.625000</td>\n",
              "    </tr>\n",
              "    <tr>\n",
              "      <th>35</th>\n",
              "      <td>195724.406250</td>\n",
              "    </tr>\n",
              "    <tr>\n",
              "      <th>36</th>\n",
              "      <td>126931.195312</td>\n",
              "    </tr>\n",
              "    <tr>\n",
              "      <th>37</th>\n",
              "      <td>125330.757812</td>\n",
              "    </tr>\n",
              "    <tr>\n",
              "      <th>38</th>\n",
              "      <td>157274.656250</td>\n",
              "    </tr>\n",
              "    <tr>\n",
              "      <th>39</th>\n",
              "      <td>111179.867188</td>\n",
              "    </tr>\n",
              "    <tr>\n",
              "      <th>40</th>\n",
              "      <td>273090.781250</td>\n",
              "    </tr>\n",
              "    <tr>\n",
              "      <th>41</th>\n",
              "      <td>312605.031250</td>\n",
              "    </tr>\n",
              "    <tr>\n",
              "      <th>42</th>\n",
              "      <td>70207.617188</td>\n",
              "    </tr>\n",
              "    <tr>\n",
              "      <th>43</th>\n",
              "      <td>150182.531250</td>\n",
              "    </tr>\n",
              "    <tr>\n",
              "      <th>44</th>\n",
              "      <td>189096.843750</td>\n",
              "    </tr>\n",
              "    <tr>\n",
              "      <th>45</th>\n",
              "      <td>102191.742188</td>\n",
              "    </tr>\n",
              "    <tr>\n",
              "      <th>46</th>\n",
              "      <td>103294.578125</td>\n",
              "    </tr>\n",
              "    <tr>\n",
              "      <th>47</th>\n",
              "      <td>140218.531250</td>\n",
              "    </tr>\n",
              "    <tr>\n",
              "      <th>48</th>\n",
              "      <td>144415.125000</td>\n",
              "    </tr>\n",
              "    <tr>\n",
              "      <th>49</th>\n",
              "      <td>480199.593750</td>\n",
              "    </tr>\n",
              "    <tr>\n",
              "      <th>50</th>\n",
              "      <td>132721.296875</td>\n",
              "    </tr>\n",
              "    <tr>\n",
              "      <th>51</th>\n",
              "      <td>349372.031250</td>\n",
              "    </tr>\n",
              "    <tr>\n",
              "      <th>52</th>\n",
              "      <td>216236.281250</td>\n",
              "    </tr>\n",
              "    <tr>\n",
              "      <th>53</th>\n",
              "      <td>137567.578125</td>\n",
              "    </tr>\n",
              "    <tr>\n",
              "      <th>54</th>\n",
              "      <td>261877.343750</td>\n",
              "    </tr>\n",
              "    <tr>\n",
              "      <th>55</th>\n",
              "      <td>193992.781250</td>\n",
              "    </tr>\n",
              "    <tr>\n",
              "      <th>56</th>\n",
              "      <td>129492.281250</td>\n",
              "    </tr>\n",
              "    <tr>\n",
              "      <th>57</th>\n",
              "      <td>122342.664062</td>\n",
              "    </tr>\n",
              "    <tr>\n",
              "      <th>58</th>\n",
              "      <td>274092.343750</td>\n",
              "    </tr>\n",
              "    <tr>\n",
              "      <th>59</th>\n",
              "      <td>172394.593750</td>\n",
              "    </tr>\n",
              "    <tr>\n",
              "      <th>60</th>\n",
              "      <td>324320.218750</td>\n",
              "    </tr>\n",
              "    <tr>\n",
              "      <th>61</th>\n",
              "      <td>110841.070312</td>\n",
              "    </tr>\n",
              "    <tr>\n",
              "      <th>62</th>\n",
              "      <td>222536.578125</td>\n",
              "    </tr>\n",
              "    <tr>\n",
              "      <th>63</th>\n",
              "      <td>223390.359375</td>\n",
              "    </tr>\n",
              "    <tr>\n",
              "      <th>64</th>\n",
              "      <td>172915.406250</td>\n",
              "    </tr>\n",
              "    <tr>\n",
              "      <th>65</th>\n",
              "      <td>128460.398438</td>\n",
              "    </tr>\n",
              "    <tr>\n",
              "      <th>66</th>\n",
              "      <td>161311.859375</td>\n",
              "    </tr>\n",
              "    <tr>\n",
              "      <th>67</th>\n",
              "      <td>262178.906250</td>\n",
              "    </tr>\n",
              "    <tr>\n",
              "      <th>68</th>\n",
              "      <td>47990.753906</td>\n",
              "    </tr>\n",
              "    <tr>\n",
              "      <th>69</th>\n",
              "      <td>254101.921875</td>\n",
              "    </tr>\n",
              "    <tr>\n",
              "      <th>70</th>\n",
              "      <td>92646.890625</td>\n",
              "    </tr>\n",
              "    <tr>\n",
              "      <th>71</th>\n",
              "      <td>86780.554688</td>\n",
              "    </tr>\n",
              "    <tr>\n",
              "      <th>72</th>\n",
              "      <td>98368.906250</td>\n",
              "    </tr>\n",
              "    <tr>\n",
              "      <th>73</th>\n",
              "      <td>274553.562500</td>\n",
              "    </tr>\n",
              "    <tr>\n",
              "      <th>74</th>\n",
              "      <td>191489.593750</td>\n",
              "    </tr>\n",
              "    <tr>\n",
              "      <th>75</th>\n",
              "      <td>219369.468750</td>\n",
              "    </tr>\n",
              "    <tr>\n",
              "      <th>76</th>\n",
              "      <td>135799.187500</td>\n",
              "    </tr>\n",
              "    <tr>\n",
              "      <th>77</th>\n",
              "      <td>104880.164062</td>\n",
              "    </tr>\n",
              "    <tr>\n",
              "      <th>78</th>\n",
              "      <td>116104.109375</td>\n",
              "    </tr>\n",
              "    <tr>\n",
              "      <th>79</th>\n",
              "      <td>101822.914062</td>\n",
              "    </tr>\n",
              "    <tr>\n",
              "      <th>80</th>\n",
              "      <td>137927.656250</td>\n",
              "    </tr>\n",
              "    <tr>\n",
              "      <th>81</th>\n",
              "      <td>131784.500000</td>\n",
              "    </tr>\n",
              "    <tr>\n",
              "      <th>82</th>\n",
              "      <td>86238.390625</td>\n",
              "    </tr>\n",
              "    <tr>\n",
              "      <th>83</th>\n",
              "      <td>240286.062500</td>\n",
              "    </tr>\n",
              "    <tr>\n",
              "      <th>84</th>\n",
              "      <td>111419.679688</td>\n",
              "    </tr>\n",
              "    <tr>\n",
              "      <th>85</th>\n",
              "      <td>105512.132812</td>\n",
              "    </tr>\n",
              "    <tr>\n",
              "      <th>86</th>\n",
              "      <td>145042.250000</td>\n",
              "    </tr>\n",
              "    <tr>\n",
              "      <th>87</th>\n",
              "      <td>135131.156250</td>\n",
              "    </tr>\n",
              "    <tr>\n",
              "      <th>88</th>\n",
              "      <td>142301.875000</td>\n",
              "    </tr>\n",
              "    <tr>\n",
              "      <th>89</th>\n",
              "      <td>99297.265625</td>\n",
              "    </tr>\n",
              "    <tr>\n",
              "      <th>90</th>\n",
              "      <td>286784.062500</td>\n",
              "    </tr>\n",
              "    <tr>\n",
              "      <th>91</th>\n",
              "      <td>121010.507812</td>\n",
              "    </tr>\n",
              "    <tr>\n",
              "      <th>92</th>\n",
              "      <td>174077.656250</td>\n",
              "    </tr>\n",
              "    <tr>\n",
              "      <th>93</th>\n",
              "      <td>134428.031250</td>\n",
              "    </tr>\n",
              "    <tr>\n",
              "      <th>94</th>\n",
              "      <td>124103.296875</td>\n",
              "    </tr>\n",
              "    <tr>\n",
              "      <th>95</th>\n",
              "      <td>456631.687500</td>\n",
              "    </tr>\n",
              "    <tr>\n",
              "      <th>96</th>\n",
              "      <td>225141.234375</td>\n",
              "    </tr>\n",
              "    <tr>\n",
              "      <th>97</th>\n",
              "      <td>350787.062500</td>\n",
              "    </tr>\n",
              "    <tr>\n",
              "      <th>98</th>\n",
              "      <td>281470.906250</td>\n",
              "    </tr>\n",
              "    <tr>\n",
              "      <th>99</th>\n",
              "      <td>263517.406250</td>\n",
              "    </tr>\n",
              "    <tr>\n",
              "      <th>100</th>\n",
              "      <td>157704.421875</td>\n",
              "    </tr>\n",
              "    <tr>\n",
              "      <th>101</th>\n",
              "      <td>151926.375000</td>\n",
              "    </tr>\n",
              "    <tr>\n",
              "      <th>102</th>\n",
              "      <td>215866.843750</td>\n",
              "    </tr>\n",
              "    <tr>\n",
              "      <th>103</th>\n",
              "      <td>110049.460938</td>\n",
              "    </tr>\n",
              "    <tr>\n",
              "      <th>104</th>\n",
              "      <td>236336.125000</td>\n",
              "    </tr>\n",
              "    <tr>\n",
              "      <th>105</th>\n",
              "      <td>128303.445312</td>\n",
              "    </tr>\n",
              "    <tr>\n",
              "      <th>106</th>\n",
              "      <td>139633.375000</td>\n",
              "    </tr>\n",
              "    <tr>\n",
              "      <th>107</th>\n",
              "      <td>251209.750000</td>\n",
              "    </tr>\n",
              "    <tr>\n",
              "      <th>108</th>\n",
              "      <td>272401.781250</td>\n",
              "    </tr>\n",
              "    <tr>\n",
              "      <th>109</th>\n",
              "      <td>240881.484375</td>\n",
              "    </tr>\n",
              "    <tr>\n",
              "      <th>110</th>\n",
              "      <td>105590.250000</td>\n",
              "    </tr>\n",
              "    <tr>\n",
              "      <th>111</th>\n",
              "      <td>130879.570312</td>\n",
              "    </tr>\n",
              "    <tr>\n",
              "      <th>112</th>\n",
              "      <td>67043.476562</td>\n",
              "    </tr>\n",
              "    <tr>\n",
              "      <th>113</th>\n",
              "      <td>189337.906250</td>\n",
              "    </tr>\n",
              "    <tr>\n",
              "      <th>114</th>\n",
              "      <td>113787.968750</td>\n",
              "    </tr>\n",
              "    <tr>\n",
              "      <th>115</th>\n",
              "      <td>154741.718750</td>\n",
              "    </tr>\n",
              "    <tr>\n",
              "      <th>116</th>\n",
              "      <td>141006.625000</td>\n",
              "    </tr>\n",
              "    <tr>\n",
              "      <th>117</th>\n",
              "      <td>106848.218750</td>\n",
              "    </tr>\n",
              "    <tr>\n",
              "      <th>118</th>\n",
              "      <td>358615.843750</td>\n",
              "    </tr>\n",
              "    <tr>\n",
              "      <th>119</th>\n",
              "      <td>281405.656250</td>\n",
              "    </tr>\n",
              "    <tr>\n",
              "      <th>120</th>\n",
              "      <td>226653.625000</td>\n",
              "    </tr>\n",
              "    <tr>\n",
              "      <th>121</th>\n",
              "      <td>111793.031250</td>\n",
              "    </tr>\n",
              "    <tr>\n",
              "      <th>122</th>\n",
              "      <td>169340.343750</td>\n",
              "    </tr>\n",
              "    <tr>\n",
              "      <th>123</th>\n",
              "      <td>113942.609375</td>\n",
              "    </tr>\n",
              "    <tr>\n",
              "      <th>124</th>\n",
              "      <td>105161.742188</td>\n",
              "    </tr>\n",
              "    <tr>\n",
              "      <th>125</th>\n",
              "      <td>132577.906250</td>\n",
              "    </tr>\n",
              "    <tr>\n",
              "      <th>126</th>\n",
              "      <td>211452.875000</td>\n",
              "    </tr>\n",
              "    <tr>\n",
              "      <th>127</th>\n",
              "      <td>324707.375000</td>\n",
              "    </tr>\n",
              "    <tr>\n",
              "      <th>128</th>\n",
              "      <td>102731.546875</td>\n",
              "    </tr>\n",
              "    <tr>\n",
              "      <th>129</th>\n",
              "      <td>156956.125000</td>\n",
              "    </tr>\n",
              "    <tr>\n",
              "      <th>130</th>\n",
              "      <td>113159.226562</td>\n",
              "    </tr>\n",
              "    <tr>\n",
              "      <th>131</th>\n",
              "      <td>109117.804688</td>\n",
              "    </tr>\n",
              "    <tr>\n",
              "      <th>132</th>\n",
              "      <td>210034.500000</td>\n",
              "    </tr>\n",
              "    <tr>\n",
              "      <th>133</th>\n",
              "      <td>171233.734375</td>\n",
              "    </tr>\n",
              "    <tr>\n",
              "      <th>134</th>\n",
              "      <td>226387.859375</td>\n",
              "    </tr>\n",
              "    <tr>\n",
              "      <th>135</th>\n",
              "      <td>124548.320312</td>\n",
              "    </tr>\n",
              "    <tr>\n",
              "      <th>136</th>\n",
              "      <td>324302.718750</td>\n",
              "    </tr>\n",
              "    <tr>\n",
              "      <th>137</th>\n",
              "      <td>136681.031250</td>\n",
              "    </tr>\n",
              "    <tr>\n",
              "      <th>138</th>\n",
              "      <td>141365.218750</td>\n",
              "    </tr>\n",
              "    <tr>\n",
              "      <th>139</th>\n",
              "      <td>227448.453125</td>\n",
              "    </tr>\n",
              "    <tr>\n",
              "      <th>140</th>\n",
              "      <td>217090.843750</td>\n",
              "    </tr>\n",
              "    <tr>\n",
              "      <th>141</th>\n",
              "      <td>153566.937500</td>\n",
              "    </tr>\n",
              "    <tr>\n",
              "      <th>142</th>\n",
              "      <td>78471.648438</td>\n",
              "    </tr>\n",
              "    <tr>\n",
              "      <th>143</th>\n",
              "      <td>324098.343750</td>\n",
              "    </tr>\n",
              "    <tr>\n",
              "      <th>144</th>\n",
              "      <td>146311.031250</td>\n",
              "    </tr>\n",
              "    <tr>\n",
              "      <th>145</th>\n",
              "      <td>260417.562500</td>\n",
              "    </tr>\n",
              "    <tr>\n",
              "      <th>146</th>\n",
              "      <td>127347.218750</td>\n",
              "    </tr>\n",
              "    <tr>\n",
              "      <th>147</th>\n",
              "      <td>140912.859375</td>\n",
              "    </tr>\n",
              "    <tr>\n",
              "      <th>148</th>\n",
              "      <td>142019.937500</td>\n",
              "    </tr>\n",
              "    <tr>\n",
              "      <th>149</th>\n",
              "      <td>136755.890625</td>\n",
              "    </tr>\n",
              "    <tr>\n",
              "      <th>150</th>\n",
              "      <td>97278.117188</td>\n",
              "    </tr>\n",
              "    <tr>\n",
              "      <th>151</th>\n",
              "      <td>137765.921875</td>\n",
              "    </tr>\n",
              "    <tr>\n",
              "      <th>152</th>\n",
              "      <td>212840.468750</td>\n",
              "    </tr>\n",
              "    <tr>\n",
              "      <th>153</th>\n",
              "      <td>141187.203125</td>\n",
              "    </tr>\n",
              "    <tr>\n",
              "      <th>154</th>\n",
              "      <td>102176.023438</td>\n",
              "    </tr>\n",
              "    <tr>\n",
              "      <th>155</th>\n",
              "      <td>254576.343750</td>\n",
              "    </tr>\n",
              "    <tr>\n",
              "      <th>156</th>\n",
              "      <td>103664.554688</td>\n",
              "    </tr>\n",
              "    <tr>\n",
              "      <th>157</th>\n",
              "      <td>174965.750000</td>\n",
              "    </tr>\n",
              "    <tr>\n",
              "      <th>158</th>\n",
              "      <td>149130.125000</td>\n",
              "    </tr>\n",
              "    <tr>\n",
              "      <th>159</th>\n",
              "      <td>173911.625000</td>\n",
              "    </tr>\n",
              "    <tr>\n",
              "      <th>160</th>\n",
              "      <td>126487.460938</td>\n",
              "    </tr>\n",
              "    <tr>\n",
              "      <th>161</th>\n",
              "      <td>346015.375000</td>\n",
              "    </tr>\n",
              "    <tr>\n",
              "      <th>162</th>\n",
              "      <td>128314.179688</td>\n",
              "    </tr>\n",
              "    <tr>\n",
              "      <th>163</th>\n",
              "      <td>184194.078125</td>\n",
              "    </tr>\n",
              "    <tr>\n",
              "      <th>164</th>\n",
              "      <td>219728.187500</td>\n",
              "    </tr>\n",
              "    <tr>\n",
              "      <th>165</th>\n",
              "      <td>354649.281250</td>\n",
              "    </tr>\n",
              "    <tr>\n",
              "      <th>166</th>\n",
              "      <td>200249.656250</td>\n",
              "    </tr>\n",
              "    <tr>\n",
              "      <th>167</th>\n",
              "      <td>91432.687500</td>\n",
              "    </tr>\n",
              "    <tr>\n",
              "      <th>168</th>\n",
              "      <td>255994.671875</td>\n",
              "    </tr>\n",
              "    <tr>\n",
              "      <th>169</th>\n",
              "      <td>106413.257812</td>\n",
              "    </tr>\n",
              "    <tr>\n",
              "      <th>170</th>\n",
              "      <td>88128.570312</td>\n",
              "    </tr>\n",
              "    <tr>\n",
              "      <th>171</th>\n",
              "      <td>115130.070312</td>\n",
              "    </tr>\n",
              "    <tr>\n",
              "      <th>172</th>\n",
              "      <td>284169.906250</td>\n",
              "    </tr>\n",
              "    <tr>\n",
              "      <th>173</th>\n",
              "      <td>88859.515625</td>\n",
              "    </tr>\n",
              "    <tr>\n",
              "      <th>174</th>\n",
              "      <td>168219.968750</td>\n",
              "    </tr>\n",
              "    <tr>\n",
              "      <th>175</th>\n",
              "      <td>173079.343750</td>\n",
              "    </tr>\n",
              "    <tr>\n",
              "      <th>176</th>\n",
              "      <td>176420.937500</td>\n",
              "    </tr>\n",
              "    <tr>\n",
              "      <th>177</th>\n",
              "      <td>253279.093750</td>\n",
              "    </tr>\n",
              "    <tr>\n",
              "      <th>178</th>\n",
              "      <td>202870.859375</td>\n",
              "    </tr>\n",
              "    <tr>\n",
              "      <th>179</th>\n",
              "      <td>119838.421875</td>\n",
              "    </tr>\n",
              "  </tbody>\n",
              "</table>\n",
              "</div>"
            ],
            "text/plain": [
              "        Prediction\n",
              "0    102544.210938\n",
              "1    205973.828125\n",
              "2    142739.906250\n",
              "3    186747.156250\n",
              "4    210641.171875\n",
              "5    201388.562500\n",
              "6    144279.546875\n",
              "7    298622.218750\n",
              "8    155926.906250\n",
              "9    378212.718750\n",
              "10   212111.921875\n",
              "11   192773.859375\n",
              "12   190688.390625\n",
              "13   107945.398438\n",
              "14   191132.984375\n",
              "15   100106.585938\n",
              "16   245486.953125\n",
              "17   126397.695312\n",
              "18   309214.406250\n",
              "19    84257.804688\n",
              "20   189807.296875\n",
              "21   106026.468750\n",
              "22    99751.507812\n",
              "23   158635.125000\n",
              "24   224929.562500\n",
              "25   175452.078125\n",
              "26   133998.015625\n",
              "27   371277.343750\n",
              "28   150818.843750\n",
              "29   160712.906250\n",
              "30    69501.835938\n",
              "31   126758.289062\n",
              "32   266917.656250\n",
              "33    91751.492188\n",
              "34   235918.625000\n",
              "35   195724.406250\n",
              "36   126931.195312\n",
              "37   125330.757812\n",
              "38   157274.656250\n",
              "39   111179.867188\n",
              "40   273090.781250\n",
              "41   312605.031250\n",
              "42    70207.617188\n",
              "43   150182.531250\n",
              "44   189096.843750\n",
              "45   102191.742188\n",
              "46   103294.578125\n",
              "47   140218.531250\n",
              "48   144415.125000\n",
              "49   480199.593750\n",
              "50   132721.296875\n",
              "51   349372.031250\n",
              "52   216236.281250\n",
              "53   137567.578125\n",
              "54   261877.343750\n",
              "55   193992.781250\n",
              "56   129492.281250\n",
              "57   122342.664062\n",
              "58   274092.343750\n",
              "59   172394.593750\n",
              "60   324320.218750\n",
              "61   110841.070312\n",
              "62   222536.578125\n",
              "63   223390.359375\n",
              "64   172915.406250\n",
              "65   128460.398438\n",
              "66   161311.859375\n",
              "67   262178.906250\n",
              "68    47990.753906\n",
              "69   254101.921875\n",
              "70    92646.890625\n",
              "71    86780.554688\n",
              "72    98368.906250\n",
              "73   274553.562500\n",
              "74   191489.593750\n",
              "75   219369.468750\n",
              "76   135799.187500\n",
              "77   104880.164062\n",
              "78   116104.109375\n",
              "79   101822.914062\n",
              "80   137927.656250\n",
              "81   131784.500000\n",
              "82    86238.390625\n",
              "83   240286.062500\n",
              "84   111419.679688\n",
              "85   105512.132812\n",
              "86   145042.250000\n",
              "87   135131.156250\n",
              "88   142301.875000\n",
              "89    99297.265625\n",
              "90   286784.062500\n",
              "91   121010.507812\n",
              "92   174077.656250\n",
              "93   134428.031250\n",
              "94   124103.296875\n",
              "95   456631.687500\n",
              "96   225141.234375\n",
              "97   350787.062500\n",
              "98   281470.906250\n",
              "99   263517.406250\n",
              "100  157704.421875\n",
              "101  151926.375000\n",
              "102  215866.843750\n",
              "103  110049.460938\n",
              "104  236336.125000\n",
              "105  128303.445312\n",
              "106  139633.375000\n",
              "107  251209.750000\n",
              "108  272401.781250\n",
              "109  240881.484375\n",
              "110  105590.250000\n",
              "111  130879.570312\n",
              "112   67043.476562\n",
              "113  189337.906250\n",
              "114  113787.968750\n",
              "115  154741.718750\n",
              "116  141006.625000\n",
              "117  106848.218750\n",
              "118  358615.843750\n",
              "119  281405.656250\n",
              "120  226653.625000\n",
              "121  111793.031250\n",
              "122  169340.343750\n",
              "123  113942.609375\n",
              "124  105161.742188\n",
              "125  132577.906250\n",
              "126  211452.875000\n",
              "127  324707.375000\n",
              "128  102731.546875\n",
              "129  156956.125000\n",
              "130  113159.226562\n",
              "131  109117.804688\n",
              "132  210034.500000\n",
              "133  171233.734375\n",
              "134  226387.859375\n",
              "135  124548.320312\n",
              "136  324302.718750\n",
              "137  136681.031250\n",
              "138  141365.218750\n",
              "139  227448.453125\n",
              "140  217090.843750\n",
              "141  153566.937500\n",
              "142   78471.648438\n",
              "143  324098.343750\n",
              "144  146311.031250\n",
              "145  260417.562500\n",
              "146  127347.218750\n",
              "147  140912.859375\n",
              "148  142019.937500\n",
              "149  136755.890625\n",
              "150   97278.117188\n",
              "151  137765.921875\n",
              "152  212840.468750\n",
              "153  141187.203125\n",
              "154  102176.023438\n",
              "155  254576.343750\n",
              "156  103664.554688\n",
              "157  174965.750000\n",
              "158  149130.125000\n",
              "159  173911.625000\n",
              "160  126487.460938\n",
              "161  346015.375000\n",
              "162  128314.179688\n",
              "163  184194.078125\n",
              "164  219728.187500\n",
              "165  354649.281250\n",
              "166  200249.656250\n",
              "167   91432.687500\n",
              "168  255994.671875\n",
              "169  106413.257812\n",
              "170   88128.570312\n",
              "171  115130.070312\n",
              "172  284169.906250\n",
              "173   88859.515625\n",
              "174  168219.968750\n",
              "175  173079.343750\n",
              "176  176420.937500\n",
              "177  253279.093750\n",
              "178  202870.859375\n",
              "179  119838.421875"
            ]
          },
          "metadata": {},
          "execution_count": 54
        }
      ]
    },
    {
      "cell_type": "code",
      "metadata": {
        "colab": {
          "base_uri": "https://localhost:8080/",
          "height": 202
        },
        "id": "CX0HE7ovZF42",
        "outputId": "7b10120e-d8c8-4609-a584-d03695bc3cec"
      },
      "source": [
        "# creating \n",
        "\n",
        "final_output=pd.concat([data_verify,data_predicted],axis=1)\n",
        "final_output['Difference']=final_output['Test']-final_output['Prediction']\n",
        "final_output.head()"
      ],
      "execution_count": null,
      "outputs": [
        {
          "output_type": "execute_result",
          "data": {
            "text/html": [
              "<div>\n",
              "<style scoped>\n",
              "    .dataframe tbody tr th:only-of-type {\n",
              "        vertical-align: middle;\n",
              "    }\n",
              "\n",
              "    .dataframe tbody tr th {\n",
              "        vertical-align: top;\n",
              "    }\n",
              "\n",
              "    .dataframe thead th {\n",
              "        text-align: right;\n",
              "    }\n",
              "</style>\n",
              "<table border=\"1\" class=\"dataframe\">\n",
              "  <thead>\n",
              "    <tr style=\"text-align: right;\">\n",
              "      <th></th>\n",
              "      <th>Test</th>\n",
              "      <th>Prediction</th>\n",
              "      <th>Difference</th>\n",
              "    </tr>\n",
              "  </thead>\n",
              "  <tbody>\n",
              "    <tr>\n",
              "      <th>0</th>\n",
              "      <td>130000.0</td>\n",
              "      <td>102544.210938</td>\n",
              "      <td>27455.789062</td>\n",
              "    </tr>\n",
              "    <tr>\n",
              "      <th>1</th>\n",
              "      <td>138887.0</td>\n",
              "      <td>205973.828125</td>\n",
              "      <td>-67086.828125</td>\n",
              "    </tr>\n",
              "    <tr>\n",
              "      <th>2</th>\n",
              "      <td>175500.0</td>\n",
              "      <td>142739.906250</td>\n",
              "      <td>32760.093750</td>\n",
              "    </tr>\n",
              "    <tr>\n",
              "      <th>3</th>\n",
              "      <td>195000.0</td>\n",
              "      <td>186747.156250</td>\n",
              "      <td>8252.843750</td>\n",
              "    </tr>\n",
              "    <tr>\n",
              "      <th>4</th>\n",
              "      <td>142500.0</td>\n",
              "      <td>210641.171875</td>\n",
              "      <td>-68141.171875</td>\n",
              "    </tr>\n",
              "  </tbody>\n",
              "</table>\n",
              "</div>"
            ],
            "text/plain": [
              "       Test     Prediction    Difference\n",
              "0  130000.0  102544.210938  27455.789062\n",
              "1  138887.0  205973.828125 -67086.828125\n",
              "2  175500.0  142739.906250  32760.093750\n",
              "3  195000.0  186747.156250   8252.843750\n",
              "4  142500.0  210641.171875 -68141.171875"
            ]
          },
          "metadata": {},
          "execution_count": 55
        }
      ]
    },
    {
      "cell_type": "code",
      "metadata": {
        "id": "U4L7YtVvZO29"
      },
      "source": [
        "#### Saving The Model\n",
        "#### Save the model\n",
        "torch.save(model,'HousePrice.pt')"
      ],
      "execution_count": null,
      "outputs": []
    },
    {
      "cell_type": "code",
      "metadata": {
        "id": "_q30059dZO-C"
      },
      "source": [
        "torch.save(model.state_dict(),'HouseWeights.pt') # this saves the weights of model"
      ],
      "execution_count": null,
      "outputs": []
    },
    {
      "cell_type": "code",
      "metadata": {
        "id": "c8NMSQOia8mm"
      },
      "source": [
        "### Loading the saved Model\n",
        "embs_size=[(15, 8), (5, 3), (2, 1), (4, 2)]\n",
        "model1=FeedForwardNN(embs_size,5,1,[100,50],p=0.4)"
      ],
      "execution_count": null,
      "outputs": []
    },
    {
      "cell_type": "code",
      "metadata": {
        "colab": {
          "base_uri": "https://localhost:8080/"
        },
        "id": "5kS-tq_EbDau",
        "outputId": "4269d952-62ba-4a79-f9d5-2222b9548691"
      },
      "source": [
        "\n",
        "model1.load_state_dict(torch.load('HouseWeights.pt'))"
      ],
      "execution_count": null,
      "outputs": [
        {
          "output_type": "execute_result",
          "data": {
            "text/plain": [
              "<All keys matched successfully>"
            ]
          },
          "metadata": {},
          "execution_count": 60
        }
      ]
    },
    {
      "cell_type": "code",
      "metadata": {
        "colab": {
          "base_uri": "https://localhost:8080/"
        },
        "id": "YtA51KjPbHOh",
        "outputId": "a75a3ab7-96da-4224-9613-aa8f697b8ad7"
      },
      "source": [
        "model1.eval()"
      ],
      "execution_count": null,
      "outputs": [
        {
          "output_type": "execute_result",
          "data": {
            "text/plain": [
              "FeedForwardNN(\n",
              "  (embeds): ModuleList(\n",
              "    (0): Embedding(15, 8)\n",
              "    (1): Embedding(5, 3)\n",
              "    (2): Embedding(2, 1)\n",
              "    (3): Embedding(4, 2)\n",
              "  )\n",
              "  (emb_drop): Dropout(p=0.4, inplace=False)\n",
              "  (bn_cont): BatchNorm1d(5, eps=1e-05, momentum=0.1, affine=True, track_running_stats=True)\n",
              "  (layers): Sequential(\n",
              "    (0): Linear(in_features=19, out_features=100, bias=True)\n",
              "    (1): ReLU(inplace=True)\n",
              "    (2): BatchNorm1d(100, eps=1e-05, momentum=0.1, affine=True, track_running_stats=True)\n",
              "    (3): Dropout(p=0.4, inplace=False)\n",
              "    (4): Linear(in_features=100, out_features=50, bias=True)\n",
              "    (5): ReLU(inplace=True)\n",
              "    (6): BatchNorm1d(50, eps=1e-05, momentum=0.1, affine=True, track_running_stats=True)\n",
              "    (7): Dropout(p=0.4, inplace=False)\n",
              "    (8): Linear(in_features=50, out_features=1, bias=True)\n",
              "  )\n",
              ")"
            ]
          },
          "metadata": {},
          "execution_count": 61
        }
      ]
    }
  ]
}